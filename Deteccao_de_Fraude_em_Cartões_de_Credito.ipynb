{
  "nbformat": 4,
  "nbformat_minor": 0,
  "metadata": {
    "colab": {
      "provenance": [],
      "toc_visible": true,
      "mount_file_id": "1k3RjtJLEDAROgsTeGcdgOJC5UDZYEKqY",
      "authorship_tag": "ABX9TyMwlpmarDn0ZDEJBGBhUJO4",
      "include_colab_link": true
    },
    "kernelspec": {
      "name": "python3",
      "display_name": "Python 3"
    },
    "language_info": {
      "name": "python"
    }
  },
  "cells": [
    {
      "cell_type": "markdown",
      "metadata": {
        "id": "view-in-github",
        "colab_type": "text"
      },
      "source": [
        "<a href=\"https://colab.research.google.com/github/ramonvluz/deteccao-de-fraude-em-cartoes-de-credito/blob/main/Deteccao_de_Fraude_em_Cart%C3%B5es_de_Credito.ipynb\" target=\"_parent\"><img src=\"https://colab.research.google.com/assets/colab-badge.svg\" alt=\"Open In Colab\"/></a>"
      ]
    },
    {
      "cell_type": "markdown",
      "source": [
        "# **Detecção de Fraudes em Transações de Cartão de Crédito**\n",
        "\n",
        "Fraudes em cartões de crédito são um grande problema para bancos e fintechs. No Brasil, mais de 12 milhões de pessoas foram vítimas de fraudes financeiras no último ano, causando um prejuízo de R$ 1,8 bilhão.\n",
        "\n",
        "Com o crescimento do comércio eletrônico, a detecção eficiente de fraudes em tempo real é crucial para proteger consumidores e instituições financeiras.\n",
        "\n",
        "Investir em Inteligência Artificial para detectar fraudes em transações de cartão de crédito representa uma oportunidade valiosa em Data Science, com potencial para economizar milhões de Reais.\n",
        "\n",
        "O desafio é aprimorar constantemente os algoritmos para prevenir ou detectar transações fraudulentas de forma mais eficaz, reduzindo falsos positivos e prejuízos.\n",
        "\n",
        "## Objetivo do Projeto\n",
        "\n",
        "O objetivo do projeto é desenvolver modelos preditivos precisos para distinguir entre transações legítimas e fraudulentas, usando algoritmos de Machine Learning como Regressão Logística e Árvores de Decisão.\n",
        "\n",
        "Antes de construir o modelo, faremos análises para lidar com dados faltantes, verificar correlações, fazer descrições estatísticas, e garantir o balanceamento de classes. Em seguida, iniciaremos a construção e comparação de modelos de Machine Learning para resolver o problema.\n",
        "\n",
        "Com tudo isso em mente, começaremos importando e explicando os dados antes de avançar no projeto."
      ],
      "metadata": {
        "id": "QlnVKOq6N1p4"
      }
    },
    {
      "cell_type": "markdown",
      "source": [
        "# **Importando oa Bibliotecas e os Dados**\n",
        "\n",
        "Os [dados utilizados](https://www.kaggle.com/datasets/mlg-ulb/creditcardfraud) foram fornecidos por empresas europeias de cartão de crédito, representando dois dias de transações com 492 fraudes em cerca de 290 mil transações, resultando em um desbalanceamento acentuado, com fraudes representando apenas 0,17%.\n",
        "\n",
        "As características do dataset são todas numéricas e foram descaracterizadas para proteger a privacidade, representadas por [V1, V2, V3... V28], passando por uma transformação chamada Análise de Componentes Principais (PCA) para redução da dimensionalidade enquanto mantém a informação essencial. Os componentes da PCA são os mesmos das colunas originais [V1, V2, V3... V28]."
      ],
      "metadata": {
        "id": "cZ7-86lRPVK7"
      }
    },
    {
      "cell_type": "code",
      "source": [
        "# Importando as bibliotecas\n",
        "\n",
        "import pandas as pd\n",
        "import numpy as np\n",
        "import matplotlib.pyplot as plt\n",
        "import seaborn as sns\n",
        "\n",
        "from sklearn.preprocessing import StandardScaler\n",
        "from sklearn.metrics import roc_auc_score, roc_curve, classification_report, accuracy_score\n",
        "from sklearn.metrics import confusion_matrix\n",
        "from sklearn.model_selection import train_test_split\n",
        "from sklearn.linear_model import LogisticRegression\n",
        "from sklearn.tree import DecisionTreeClassifier\n",
        "\n",
        "from imblearn.under_sampling import RandomUnderSampler\n",
        "\n",
        "%matplotlib inline"
      ],
      "metadata": {
        "id": "QKfjE9clOuyB"
      },
      "execution_count": 336,
      "outputs": []
    },
    {
      "cell_type": "code",
      "source": [
        "# Importando os dados para um df\n",
        "\n",
        "ccredito = '/content/drive/MyDrive/Colab Notebooks/Detecção de Fraudes em Cartões de Crédito/creditcard.csv'\n",
        "\n",
        "df = pd.read_csv(ccredito)"
      ],
      "metadata": {
        "id": "Nu2ehuO5QXzT"
      },
      "execution_count": 337,
      "outputs": []
    },
    {
      "cell_type": "markdown",
      "source": [
        "## **Criando um Conjunto de Validação**\n"
      ],
      "metadata": {
        "id": "HLBGkl_9T4LN"
      }
    },
    {
      "cell_type": "code",
      "source": [
        "# Criando o conjunto de validação\n",
        "\n",
        "validacao = df.sample(frac=0.15, random_state=0)"
      ],
      "metadata": {
        "id": "MvnciRp-STu0"
      },
      "execution_count": 338,
      "outputs": []
    },
    {
      "cell_type": "code",
      "source": [
        "# Excluindo do df os dados usados no novo conjunto\n",
        "\n",
        "df = df.drop(validacao.index)"
      ],
      "metadata": {
        "id": "r77TD-YapZ2P"
      },
      "execution_count": 339,
      "outputs": []
    },
    {
      "cell_type": "code",
      "source": [
        "# Verificando o conjunto de dados após a separação\n",
        "\n",
        "print(f\"Dimensão do Conujunto de Treino: {df.shape}\")\n",
        "print(f\"Dimensão do Conujunto de Validação: {validacao.shape}\")"
      ],
      "metadata": {
        "colab": {
          "base_uri": "https://localhost:8080/"
        },
        "id": "Qx1XJtJcpsfW",
        "outputId": "074426ee-40b6-4b60-f3ae-ca213a67fa92"
      },
      "execution_count": 340,
      "outputs": [
        {
          "output_type": "stream",
          "name": "stdout",
          "text": [
            "Dimensão do Conujunto de Treino: (242086, 31)\n",
            "Dimensão do Conujunto de Validação: (42721, 31)\n"
          ]
        }
      ]
    },
    {
      "cell_type": "markdown",
      "source": [
        "- 15% dos dados do DataFrame original foram separados para um conjunto de validação. Após criar e ajustar os modelos de Machine Learning, utilizarei esse dados para testar e avaliar sua eficácia com dados novos, nunca antes visto pelos modelos."
      ],
      "metadata": {
        "id": "Ffs73ehvUKXc"
      }
    },
    {
      "cell_type": "markdown",
      "source": [
        "## **Dicionário de Variáveis**\n",
        "\n",
        "- Time: intervalo de tempo em segundos entre cada transação.\n",
        "- Amount: valor da transação.\n",
        "- Class: indica se a transação é fraudulenta (1) ou legítima (0).\n",
        "- V1, V2, V3...V28: variáveis ocultas por questões de privacidade."
      ],
      "metadata": {
        "id": "ZmF6awSfVGX4"
      }
    },
    {
      "cell_type": "markdown",
      "source": [
        "# **Análise Exploratória**"
      ],
      "metadata": {
        "id": "_aWVs3PpWh_s"
      }
    },
    {
      "cell_type": "code",
      "source": [
        "# Visualizando o df\n",
        "\n",
        "df.head()"
      ],
      "metadata": {
        "colab": {
          "base_uri": "https://localhost:8080/",
          "height": 255
        },
        "id": "2uju5KgLWkam",
        "outputId": "4c28c8ce-6ee0-406f-873a-991fd5b5012c"
      },
      "execution_count": 341,
      "outputs": [
        {
          "output_type": "execute_result",
          "data": {
            "text/plain": [
              "   Time        V1        V2        V3        V4        V5        V6        V7  \\\n",
              "0   0.0 -1.359807 -0.072781  2.536347  1.378155 -0.338321  0.462388  0.239599   \n",
              "1   0.0  1.191857  0.266151  0.166480  0.448154  0.060018 -0.082361 -0.078803   \n",
              "2   1.0 -1.358354 -1.340163  1.773209  0.379780 -0.503198  1.800499  0.791461   \n",
              "3   1.0 -0.966272 -0.185226  1.792993 -0.863291 -0.010309  1.247203  0.237609   \n",
              "4   2.0 -1.158233  0.877737  1.548718  0.403034 -0.407193  0.095921  0.592941   \n",
              "\n",
              "         V8        V9  ...       V21       V22       V23       V24       V25  \\\n",
              "0  0.098698  0.363787  ... -0.018307  0.277838 -0.110474  0.066928  0.128539   \n",
              "1  0.085102 -0.255425  ... -0.225775 -0.638672  0.101288 -0.339846  0.167170   \n",
              "2  0.247676 -1.514654  ...  0.247998  0.771679  0.909412 -0.689281 -0.327642   \n",
              "3  0.377436 -1.387024  ... -0.108300  0.005274 -0.190321 -1.175575  0.647376   \n",
              "4 -0.270533  0.817739  ... -0.009431  0.798278 -0.137458  0.141267 -0.206010   \n",
              "\n",
              "        V26       V27       V28  Amount  Class  \n",
              "0 -0.189115  0.133558 -0.021053  149.62      0  \n",
              "1  0.125895 -0.008983  0.014724    2.69      0  \n",
              "2 -0.139097 -0.055353 -0.059752  378.66      0  \n",
              "3 -0.221929  0.062723  0.061458  123.50      0  \n",
              "4  0.502292  0.219422  0.215153   69.99      0  \n",
              "\n",
              "[5 rows x 31 columns]"
            ],
            "text/html": [
              "\n",
              "  <div id=\"df-f57e71f2-f38c-4dad-be5a-8bca2cbf1b97\" class=\"colab-df-container\">\n",
              "    <div>\n",
              "<style scoped>\n",
              "    .dataframe tbody tr th:only-of-type {\n",
              "        vertical-align: middle;\n",
              "    }\n",
              "\n",
              "    .dataframe tbody tr th {\n",
              "        vertical-align: top;\n",
              "    }\n",
              "\n",
              "    .dataframe thead th {\n",
              "        text-align: right;\n",
              "    }\n",
              "</style>\n",
              "<table border=\"1\" class=\"dataframe\">\n",
              "  <thead>\n",
              "    <tr style=\"text-align: right;\">\n",
              "      <th></th>\n",
              "      <th>Time</th>\n",
              "      <th>V1</th>\n",
              "      <th>V2</th>\n",
              "      <th>V3</th>\n",
              "      <th>V4</th>\n",
              "      <th>V5</th>\n",
              "      <th>V6</th>\n",
              "      <th>V7</th>\n",
              "      <th>V8</th>\n",
              "      <th>V9</th>\n",
              "      <th>...</th>\n",
              "      <th>V21</th>\n",
              "      <th>V22</th>\n",
              "      <th>V23</th>\n",
              "      <th>V24</th>\n",
              "      <th>V25</th>\n",
              "      <th>V26</th>\n",
              "      <th>V27</th>\n",
              "      <th>V28</th>\n",
              "      <th>Amount</th>\n",
              "      <th>Class</th>\n",
              "    </tr>\n",
              "  </thead>\n",
              "  <tbody>\n",
              "    <tr>\n",
              "      <th>0</th>\n",
              "      <td>0.0</td>\n",
              "      <td>-1.359807</td>\n",
              "      <td>-0.072781</td>\n",
              "      <td>2.536347</td>\n",
              "      <td>1.378155</td>\n",
              "      <td>-0.338321</td>\n",
              "      <td>0.462388</td>\n",
              "      <td>0.239599</td>\n",
              "      <td>0.098698</td>\n",
              "      <td>0.363787</td>\n",
              "      <td>...</td>\n",
              "      <td>-0.018307</td>\n",
              "      <td>0.277838</td>\n",
              "      <td>-0.110474</td>\n",
              "      <td>0.066928</td>\n",
              "      <td>0.128539</td>\n",
              "      <td>-0.189115</td>\n",
              "      <td>0.133558</td>\n",
              "      <td>-0.021053</td>\n",
              "      <td>149.62</td>\n",
              "      <td>0</td>\n",
              "    </tr>\n",
              "    <tr>\n",
              "      <th>1</th>\n",
              "      <td>0.0</td>\n",
              "      <td>1.191857</td>\n",
              "      <td>0.266151</td>\n",
              "      <td>0.166480</td>\n",
              "      <td>0.448154</td>\n",
              "      <td>0.060018</td>\n",
              "      <td>-0.082361</td>\n",
              "      <td>-0.078803</td>\n",
              "      <td>0.085102</td>\n",
              "      <td>-0.255425</td>\n",
              "      <td>...</td>\n",
              "      <td>-0.225775</td>\n",
              "      <td>-0.638672</td>\n",
              "      <td>0.101288</td>\n",
              "      <td>-0.339846</td>\n",
              "      <td>0.167170</td>\n",
              "      <td>0.125895</td>\n",
              "      <td>-0.008983</td>\n",
              "      <td>0.014724</td>\n",
              "      <td>2.69</td>\n",
              "      <td>0</td>\n",
              "    </tr>\n",
              "    <tr>\n",
              "      <th>2</th>\n",
              "      <td>1.0</td>\n",
              "      <td>-1.358354</td>\n",
              "      <td>-1.340163</td>\n",
              "      <td>1.773209</td>\n",
              "      <td>0.379780</td>\n",
              "      <td>-0.503198</td>\n",
              "      <td>1.800499</td>\n",
              "      <td>0.791461</td>\n",
              "      <td>0.247676</td>\n",
              "      <td>-1.514654</td>\n",
              "      <td>...</td>\n",
              "      <td>0.247998</td>\n",
              "      <td>0.771679</td>\n",
              "      <td>0.909412</td>\n",
              "      <td>-0.689281</td>\n",
              "      <td>-0.327642</td>\n",
              "      <td>-0.139097</td>\n",
              "      <td>-0.055353</td>\n",
              "      <td>-0.059752</td>\n",
              "      <td>378.66</td>\n",
              "      <td>0</td>\n",
              "    </tr>\n",
              "    <tr>\n",
              "      <th>3</th>\n",
              "      <td>1.0</td>\n",
              "      <td>-0.966272</td>\n",
              "      <td>-0.185226</td>\n",
              "      <td>1.792993</td>\n",
              "      <td>-0.863291</td>\n",
              "      <td>-0.010309</td>\n",
              "      <td>1.247203</td>\n",
              "      <td>0.237609</td>\n",
              "      <td>0.377436</td>\n",
              "      <td>-1.387024</td>\n",
              "      <td>...</td>\n",
              "      <td>-0.108300</td>\n",
              "      <td>0.005274</td>\n",
              "      <td>-0.190321</td>\n",
              "      <td>-1.175575</td>\n",
              "      <td>0.647376</td>\n",
              "      <td>-0.221929</td>\n",
              "      <td>0.062723</td>\n",
              "      <td>0.061458</td>\n",
              "      <td>123.50</td>\n",
              "      <td>0</td>\n",
              "    </tr>\n",
              "    <tr>\n",
              "      <th>4</th>\n",
              "      <td>2.0</td>\n",
              "      <td>-1.158233</td>\n",
              "      <td>0.877737</td>\n",
              "      <td>1.548718</td>\n",
              "      <td>0.403034</td>\n",
              "      <td>-0.407193</td>\n",
              "      <td>0.095921</td>\n",
              "      <td>0.592941</td>\n",
              "      <td>-0.270533</td>\n",
              "      <td>0.817739</td>\n",
              "      <td>...</td>\n",
              "      <td>-0.009431</td>\n",
              "      <td>0.798278</td>\n",
              "      <td>-0.137458</td>\n",
              "      <td>0.141267</td>\n",
              "      <td>-0.206010</td>\n",
              "      <td>0.502292</td>\n",
              "      <td>0.219422</td>\n",
              "      <td>0.215153</td>\n",
              "      <td>69.99</td>\n",
              "      <td>0</td>\n",
              "    </tr>\n",
              "  </tbody>\n",
              "</table>\n",
              "<p>5 rows × 31 columns</p>\n",
              "</div>\n",
              "    <div class=\"colab-df-buttons\">\n",
              "\n",
              "  <div class=\"colab-df-container\">\n",
              "    <button class=\"colab-df-convert\" onclick=\"convertToInteractive('df-f57e71f2-f38c-4dad-be5a-8bca2cbf1b97')\"\n",
              "            title=\"Convert this dataframe to an interactive table.\"\n",
              "            style=\"display:none;\">\n",
              "\n",
              "  <svg xmlns=\"http://www.w3.org/2000/svg\" height=\"24px\" viewBox=\"0 -960 960 960\">\n",
              "    <path d=\"M120-120v-720h720v720H120Zm60-500h600v-160H180v160Zm220 220h160v-160H400v160Zm0 220h160v-160H400v160ZM180-400h160v-160H180v160Zm440 0h160v-160H620v160ZM180-180h160v-160H180v160Zm440 0h160v-160H620v160Z\"/>\n",
              "  </svg>\n",
              "    </button>\n",
              "\n",
              "  <style>\n",
              "    .colab-df-container {\n",
              "      display:flex;\n",
              "      gap: 12px;\n",
              "    }\n",
              "\n",
              "    .colab-df-convert {\n",
              "      background-color: #E8F0FE;\n",
              "      border: none;\n",
              "      border-radius: 50%;\n",
              "      cursor: pointer;\n",
              "      display: none;\n",
              "      fill: #1967D2;\n",
              "      height: 32px;\n",
              "      padding: 0 0 0 0;\n",
              "      width: 32px;\n",
              "    }\n",
              "\n",
              "    .colab-df-convert:hover {\n",
              "      background-color: #E2EBFA;\n",
              "      box-shadow: 0px 1px 2px rgba(60, 64, 67, 0.3), 0px 1px 3px 1px rgba(60, 64, 67, 0.15);\n",
              "      fill: #174EA6;\n",
              "    }\n",
              "\n",
              "    .colab-df-buttons div {\n",
              "      margin-bottom: 4px;\n",
              "    }\n",
              "\n",
              "    [theme=dark] .colab-df-convert {\n",
              "      background-color: #3B4455;\n",
              "      fill: #D2E3FC;\n",
              "    }\n",
              "\n",
              "    [theme=dark] .colab-df-convert:hover {\n",
              "      background-color: #434B5C;\n",
              "      box-shadow: 0px 1px 3px 1px rgba(0, 0, 0, 0.15);\n",
              "      filter: drop-shadow(0px 1px 2px rgba(0, 0, 0, 0.3));\n",
              "      fill: #FFFFFF;\n",
              "    }\n",
              "  </style>\n",
              "\n",
              "    <script>\n",
              "      const buttonEl =\n",
              "        document.querySelector('#df-f57e71f2-f38c-4dad-be5a-8bca2cbf1b97 button.colab-df-convert');\n",
              "      buttonEl.style.display =\n",
              "        google.colab.kernel.accessAllowed ? 'block' : 'none';\n",
              "\n",
              "      async function convertToInteractive(key) {\n",
              "        const element = document.querySelector('#df-f57e71f2-f38c-4dad-be5a-8bca2cbf1b97');\n",
              "        const dataTable =\n",
              "          await google.colab.kernel.invokeFunction('convertToInteractive',\n",
              "                                                    [key], {});\n",
              "        if (!dataTable) return;\n",
              "\n",
              "        const docLinkHtml = 'Like what you see? Visit the ' +\n",
              "          '<a target=\"_blank\" href=https://colab.research.google.com/notebooks/data_table.ipynb>data table notebook</a>'\n",
              "          + ' to learn more about interactive tables.';\n",
              "        element.innerHTML = '';\n",
              "        dataTable['output_type'] = 'display_data';\n",
              "        await google.colab.output.renderOutput(dataTable, element);\n",
              "        const docLink = document.createElement('div');\n",
              "        docLink.innerHTML = docLinkHtml;\n",
              "        element.appendChild(docLink);\n",
              "      }\n",
              "    </script>\n",
              "  </div>\n",
              "\n",
              "\n",
              "<div id=\"df-75eaf1b6-e9a6-4902-b56c-8dbca47e2e61\">\n",
              "  <button class=\"colab-df-quickchart\" onclick=\"quickchart('df-75eaf1b6-e9a6-4902-b56c-8dbca47e2e61')\"\n",
              "            title=\"Suggest charts\"\n",
              "            style=\"display:none;\">\n",
              "\n",
              "<svg xmlns=\"http://www.w3.org/2000/svg\" height=\"24px\"viewBox=\"0 0 24 24\"\n",
              "     width=\"24px\">\n",
              "    <g>\n",
              "        <path d=\"M19 3H5c-1.1 0-2 .9-2 2v14c0 1.1.9 2 2 2h14c1.1 0 2-.9 2-2V5c0-1.1-.9-2-2-2zM9 17H7v-7h2v7zm4 0h-2V7h2v10zm4 0h-2v-4h2v4z\"/>\n",
              "    </g>\n",
              "</svg>\n",
              "  </button>\n",
              "\n",
              "<style>\n",
              "  .colab-df-quickchart {\n",
              "      --bg-color: #E8F0FE;\n",
              "      --fill-color: #1967D2;\n",
              "      --hover-bg-color: #E2EBFA;\n",
              "      --hover-fill-color: #174EA6;\n",
              "      --disabled-fill-color: #AAA;\n",
              "      --disabled-bg-color: #DDD;\n",
              "  }\n",
              "\n",
              "  [theme=dark] .colab-df-quickchart {\n",
              "      --bg-color: #3B4455;\n",
              "      --fill-color: #D2E3FC;\n",
              "      --hover-bg-color: #434B5C;\n",
              "      --hover-fill-color: #FFFFFF;\n",
              "      --disabled-bg-color: #3B4455;\n",
              "      --disabled-fill-color: #666;\n",
              "  }\n",
              "\n",
              "  .colab-df-quickchart {\n",
              "    background-color: var(--bg-color);\n",
              "    border: none;\n",
              "    border-radius: 50%;\n",
              "    cursor: pointer;\n",
              "    display: none;\n",
              "    fill: var(--fill-color);\n",
              "    height: 32px;\n",
              "    padding: 0;\n",
              "    width: 32px;\n",
              "  }\n",
              "\n",
              "  .colab-df-quickchart:hover {\n",
              "    background-color: var(--hover-bg-color);\n",
              "    box-shadow: 0 1px 2px rgba(60, 64, 67, 0.3), 0 1px 3px 1px rgba(60, 64, 67, 0.15);\n",
              "    fill: var(--button-hover-fill-color);\n",
              "  }\n",
              "\n",
              "  .colab-df-quickchart-complete:disabled,\n",
              "  .colab-df-quickchart-complete:disabled:hover {\n",
              "    background-color: var(--disabled-bg-color);\n",
              "    fill: var(--disabled-fill-color);\n",
              "    box-shadow: none;\n",
              "  }\n",
              "\n",
              "  .colab-df-spinner {\n",
              "    border: 2px solid var(--fill-color);\n",
              "    border-color: transparent;\n",
              "    border-bottom-color: var(--fill-color);\n",
              "    animation:\n",
              "      spin 1s steps(1) infinite;\n",
              "  }\n",
              "\n",
              "  @keyframes spin {\n",
              "    0% {\n",
              "      border-color: transparent;\n",
              "      border-bottom-color: var(--fill-color);\n",
              "      border-left-color: var(--fill-color);\n",
              "    }\n",
              "    20% {\n",
              "      border-color: transparent;\n",
              "      border-left-color: var(--fill-color);\n",
              "      border-top-color: var(--fill-color);\n",
              "    }\n",
              "    30% {\n",
              "      border-color: transparent;\n",
              "      border-left-color: var(--fill-color);\n",
              "      border-top-color: var(--fill-color);\n",
              "      border-right-color: var(--fill-color);\n",
              "    }\n",
              "    40% {\n",
              "      border-color: transparent;\n",
              "      border-right-color: var(--fill-color);\n",
              "      border-top-color: var(--fill-color);\n",
              "    }\n",
              "    60% {\n",
              "      border-color: transparent;\n",
              "      border-right-color: var(--fill-color);\n",
              "    }\n",
              "    80% {\n",
              "      border-color: transparent;\n",
              "      border-right-color: var(--fill-color);\n",
              "      border-bottom-color: var(--fill-color);\n",
              "    }\n",
              "    90% {\n",
              "      border-color: transparent;\n",
              "      border-bottom-color: var(--fill-color);\n",
              "    }\n",
              "  }\n",
              "</style>\n",
              "\n",
              "  <script>\n",
              "    async function quickchart(key) {\n",
              "      const quickchartButtonEl =\n",
              "        document.querySelector('#' + key + ' button');\n",
              "      quickchartButtonEl.disabled = true;  // To prevent multiple clicks.\n",
              "      quickchartButtonEl.classList.add('colab-df-spinner');\n",
              "      try {\n",
              "        const charts = await google.colab.kernel.invokeFunction(\n",
              "            'suggestCharts', [key], {});\n",
              "      } catch (error) {\n",
              "        console.error('Error during call to suggestCharts:', error);\n",
              "      }\n",
              "      quickchartButtonEl.classList.remove('colab-df-spinner');\n",
              "      quickchartButtonEl.classList.add('colab-df-quickchart-complete');\n",
              "    }\n",
              "    (() => {\n",
              "      let quickchartButtonEl =\n",
              "        document.querySelector('#df-75eaf1b6-e9a6-4902-b56c-8dbca47e2e61 button');\n",
              "      quickchartButtonEl.style.display =\n",
              "        google.colab.kernel.accessAllowed ? 'block' : 'none';\n",
              "    })();\n",
              "  </script>\n",
              "</div>\n",
              "\n",
              "    </div>\n",
              "  </div>\n"
            ],
            "application/vnd.google.colaboratory.intrinsic+json": {
              "type": "dataframe",
              "variable_name": "df"
            }
          },
          "metadata": {},
          "execution_count": 341
        }
      ]
    },
    {
      "cell_type": "markdown",
      "source": [
        "- Observando as primeiras entradas, consigo notar que:\n",
        "\n",
        "  - A transformação PCA anonimiza e numera as colunas em um intervalo de -1 a 1.\n",
        "  - As colunas Time e Amount permanecem com seus valores originais.\n",
        "  - A coluna Class é a minha variável alvo, onde:\n",
        "    - 0: representa uma transação real.\n",
        "    - 1: representa uma transação fraudulenta."
      ],
      "metadata": {
        "id": "whW-HNRDXSYk"
      }
    },
    {
      "cell_type": "code",
      "source": [
        "# Visualizando a descrição estatística dos dados\n",
        "\n",
        "print(df.describe())"
      ],
      "metadata": {
        "colab": {
          "base_uri": "https://localhost:8080/"
        },
        "id": "SUffD8TEW3UQ",
        "outputId": "03022c38-9092-4355-ec60-bdd9ed5ffd9e"
      },
      "execution_count": 342,
      "outputs": [
        {
          "output_type": "stream",
          "name": "stdout",
          "text": [
            "                Time             V1             V2             V3  \\\n",
            "count  242086.000000  242086.000000  242086.000000  242086.000000   \n",
            "mean    94857.597379       0.001456      -0.000800      -0.001004   \n",
            "std     47490.660832       1.956513       1.654883       1.514580   \n",
            "min         0.000000     -56.407510     -72.715728     -33.680984   \n",
            "25%     54234.000000      -0.920406      -0.598659      -0.893374   \n",
            "50%     84747.000000       0.019230       0.064567       0.177607   \n",
            "75%    139362.000000       1.316034       0.803174       1.026561   \n",
            "max    172792.000000       2.451888      22.057729       9.382558   \n",
            "\n",
            "                  V4             V5             V6             V7  \\\n",
            "count  242086.000000  242086.000000  242086.000000  242086.000000   \n",
            "mean        0.000647      -0.000986      -0.001196      -0.000033   \n",
            "std         1.417228       1.366284       1.326879       1.223095   \n",
            "min        -5.683171     -42.147898     -26.160506     -43.557242   \n",
            "25%        -0.848236      -0.693615      -0.769025      -0.553805   \n",
            "50%        -0.018959      -0.054544      -0.274310       0.040344   \n",
            "75%         0.743691       0.611455       0.397688       0.570104   \n",
            "max        16.875344      34.801666      23.917837      44.054461   \n",
            "\n",
            "                  V8             V9  ...            V21            V22  \\\n",
            "count  242086.000000  242086.000000  ...  242086.000000  242086.000000   \n",
            "mean       -0.000416      -0.000725  ...      -0.000015       0.000606   \n",
            "std         1.199718       1.099350  ...       0.734189       0.726284   \n",
            "min       -73.216718     -13.434066  ...     -34.830382     -10.933144   \n",
            "25%        -0.208857      -0.645058  ...      -0.228492      -0.542962   \n",
            "50%         0.022160      -0.051370  ...      -0.028987       0.007162   \n",
            "75%         0.327186       0.597195  ...       0.187064       0.529814   \n",
            "max        20.007208      15.594995  ...      27.202839      10.503090   \n",
            "\n",
            "                 V23            V24            V25            V26  \\\n",
            "count  242086.000000  242086.000000  242086.000000  242086.000000   \n",
            "mean       -0.000482       0.000199       0.000048      -0.000269   \n",
            "std         0.629651       0.605150       0.521574       0.482084   \n",
            "min       -44.807735      -2.822684     -10.295397      -2.604551   \n",
            "25%        -0.161941      -0.354494      -0.316853      -0.327387   \n",
            "50%        -0.011175       0.040764       0.017175      -0.052337   \n",
            "75%         0.147358       0.439320       0.350795       0.241214   \n",
            "max        22.528412       4.022866       7.519589       3.517346   \n",
            "\n",
            "                 V27            V28         Amount          Class  \n",
            "count  242086.000000  242086.000000  242086.000000  242086.000000  \n",
            "mean       -0.000727       0.000065      88.612429       0.001727  \n",
            "std         0.401490       0.327734     247.655020       0.041517  \n",
            "min       -22.565679     -11.710896       0.000000       0.000000  \n",
            "25%        -0.070744      -0.052903       5.662500       0.000000  \n",
            "50%         0.001131       0.011209      22.000000       0.000000  \n",
            "75%         0.090776       0.078234      77.580000       0.000000  \n",
            "max        12.152401      33.847808   19656.530000       1.000000  \n",
            "\n",
            "[8 rows x 31 columns]\n"
          ]
        }
      ]
    },
    {
      "cell_type": "markdown",
      "source": [
        "- Ao analisar as informações acima, observamos que:\n",
        "\n",
        "  - As variáveis V1-V28 e Time não apresentam discrepâncias.\n",
        "  - Na variável Amount, destacam-se:\n",
        "    - Média das transações: 88.61\n",
        "    - Mediana: 22\n",
        "    - Desvio padrão: 247.65\n",
        "    - 75% dos valores são abaixo de 77.58\n",
        "    - Valor máximo da transação: 19656.53"
      ],
      "metadata": {
        "id": "ztjxwUsoYZXk"
      }
    },
    {
      "cell_type": "code",
      "source": [
        "# Verificando os valores nulos\n",
        "\n",
        "df.isnull().sum()"
      ],
      "metadata": {
        "colab": {
          "base_uri": "https://localhost:8080/"
        },
        "id": "HetCogDmX4Jd",
        "outputId": "52790a78-b908-4dc9-eb3d-ce72c599aee6"
      },
      "execution_count": 343,
      "outputs": [
        {
          "output_type": "execute_result",
          "data": {
            "text/plain": [
              "Time      0\n",
              "V1        0\n",
              "V2        0\n",
              "V3        0\n",
              "V4        0\n",
              "V5        0\n",
              "V6        0\n",
              "V7        0\n",
              "V8        0\n",
              "V9        0\n",
              "V10       0\n",
              "V11       0\n",
              "V12       0\n",
              "V13       0\n",
              "V14       0\n",
              "V15       0\n",
              "V16       0\n",
              "V17       0\n",
              "V18       0\n",
              "V19       0\n",
              "V20       0\n",
              "V21       0\n",
              "V22       0\n",
              "V23       0\n",
              "V24       0\n",
              "V25       0\n",
              "V26       0\n",
              "V27       0\n",
              "V28       0\n",
              "Amount    0\n",
              "Class     0\n",
              "dtype: int64"
            ]
          },
          "metadata": {},
          "execution_count": 343
        }
      ]
    },
    {
      "cell_type": "markdown",
      "source": [
        "- Verifiquei se há valores nulos no conjunto de dados, o que exigiria ações como o preenchimento com zeros, mediana ou a exclusão das linhas afetadas, dependendo do problema. Isso é necessário porque modelos de Machine Learning não podem lidar com valores nulos. Felizmente o conjunto de dados não possui valores ausentes, então não precisarei fazer nenhum tratamento."
      ],
      "metadata": {
        "id": "Nn8D2CZ7Zizk"
      }
    },
    {
      "cell_type": "markdown",
      "source": [
        "- Agora irei verificar como está as distribuições de classes, se estiverem muito desbalanceadas, será nescessário fazer algum tratamento.   \n",
        "  - Para isso, irei fazer um plot de contagem para os 0s e 1s, e também averiguar a porcentagem de valores considerados reais e fraudulentos."
      ],
      "metadata": {
        "id": "B0Al82PIdHO9"
      }
    },
    {
      "cell_type": "code",
      "source": [
        "# Gráfico de barras para as classes\n",
        "\n",
        "colors = {'Class 0': 'blue', 'Class 1': 'red'}\n",
        "\n",
        "# Criando uma figura e eixo\n",
        "\n",
        "fig, ax = plt.subplots(figsize=(8, 5))\n",
        "\n",
        "# Plotando o gráfico de barras\n",
        "sns.countplot(x=df[\"Class\"], ax=ax, hue=df[\"Class\"], palette=colors.values(), legend=False)\n",
        "ax.set_title(\"Distribuição das Classes\")\n",
        "\n",
        "# Contando as ocorrências de cada classe\n",
        "class_counts = df[\"Class\"].value_counts()\n",
        "\n",
        "# Criando a legenda personalizada\n",
        "legend_labels = [f'{cls} ({count})' for cls, count in class_counts.items()]\n",
        "ax.legend(handles=ax.patches, labels=legend_labels, title=\"Classes\")\n",
        "\n",
        "plt.show()"
      ],
      "metadata": {
        "colab": {
          "base_uri": "https://localhost:8080/",
          "height": 487
        },
        "id": "3TThqHKpcor6",
        "outputId": "5dffb2f5-eef2-499d-ffa7-1db7806310e0"
      },
      "execution_count": 344,
      "outputs": [
        {
          "output_type": "display_data",
          "data": {
            "text/plain": [
              "<Figure size 800x500 with 1 Axes>"
            ],
            "image/png": "[encoded data removed]"
          },
          "metadata": {}
        }
      ]
    },
    {
      "cell_type": "code",
      "source": [
        "# Verificando o balanceamento do conjunto de dados\n",
        "\n",
        "df[\"Class\"].value_counts()\n",
        "\n",
        "perc_trans_reais = (df[df[\"Class\"]==0].shape[0]/df.shape[0])*100\n",
        "perc_trans_fraudulentas = (df[df[\"Class\"]==1].shape[0]/df.shape[0])*100\n",
        "\n",
        "print(f\"Transações reais representam: {perc_trans_reais:.4f}% do conjunto de dados\")\n",
        "print(f\"Transações fraudulentas representam: {perc_trans_fraudulentas:.4f}% do conjunto de dados\")"
      ],
      "metadata": {
        "colab": {
          "base_uri": "https://localhost:8080/"
        },
        "id": "_uNuCnbAYzvQ",
        "outputId": "da1077c2-b9d1-4e61-afed-5564b7870728"
      },
      "execution_count": 345,
      "outputs": [
        {
          "output_type": "stream",
          "name": "stdout",
          "text": [
            "Transações reais representam: 99.8273% do conjunto de dados\n",
            "Transações fraudulentas representam: 0.1727% do conjunto de dados\n"
          ]
        }
      ]
    },
    {
      "cell_type": "markdown",
      "source": [
        "- Com as análises feitas acima, percebo que:\n",
        "\n",
        "  - Existem 241.668 transações classificadas como 0 (reais) e apenas 418 classificadas como 1 (fraudulentas).\n",
        "  - As transações reais representam aproximadamente 99,83% do total.\n",
        "  - As fraudes representam apenas 0,17% do total de dados.\n",
        "\n",
        "- Com esses pontos destacados, fica claro o grande desbalanceamento entre as classes. Um rebalanceamento será realizado posteriormente, por enquanto continuarei com as análises."
      ],
      "metadata": {
        "id": "-WS6aHRZinjo"
      }
    },
    {
      "cell_type": "code",
      "source": [
        "# Plotando um histograma da variável Time pela Classes\n",
        "\n",
        "# Criando uma figura e eixo\n",
        "\n",
        "fig, ax = plt.subplots(nrows=2, ncols=1, figsize=(8, 5))\n",
        "\n",
        "for axis in ax:\n",
        "    axis.spines['top'].set_visible(False)\n",
        "    axis.spines['right'].set_visible(False)\n",
        "    axis.spines['bottom'].set_visible(False)\n",
        "    axis.spines['left'].set_visible(False)\n",
        "    axis.set_xlabel(\"Tempo(Segundos)\")\n",
        "    axis.set_ylabel(\"Transações\")\n",
        "\n",
        "ax[0].hist(df['Time'][df['Class']==0], bins=40, rwidth=0.9, color='b')\n",
        "ax[0].set_title(\"Transação Real\", )\n",
        "\n",
        "ax[1].hist(df['Time'][df['Class']==1], bins=40, rwidth=0.9, color='r')\n",
        "ax[1].set_title(\"Transação Fraudulenta\")\n",
        "\n",
        "plt.xlabel(\"Tempo(Segundos)\")\n",
        "plt.ylabel(\"Transações\")\n",
        "plt.tight_layout()"
      ],
      "metadata": {
        "colab": {
          "base_uri": "https://localhost:8080/",
          "height": 507
        },
        "id": "gijJCPoTjsJj",
        "outputId": "9181eede-418b-4ce7-d048-3e96cef160f6"
      },
      "execution_count": 346,
      "outputs": [
        {
          "output_type": "display_data",
          "data": {
            "text/plain": [
              "<Figure size 800x500 with 2 Axes>"
            ],
            "image/png": "[encoded data removed]"
          },
          "metadata": {}
        }
      ]
    },
    {
      "cell_type": "markdown",
      "source": [
        "- Na célula anterior, foram criados 2 histogramas: um para as transações reais e outro para as fraudulentas, ambos mostrando a distribuição ao longo do tempo para identificar possíveis padrões ou informações. No entanto, não foi identificado nada relevante."
      ],
      "metadata": {
        "id": "_xYYKrCJrOBu"
      }
    },
    {
      "cell_type": "code",
      "source": [
        "# Verificano valores outliers na variável Amount\n",
        "\n",
        "# Criando uma figura e eixo\n",
        "fig, ax = plt.subplots(figsize=(8, 6))\n",
        "\n",
        "# Removendo as bordas do gráfico\n",
        "sns.despine(ax=ax, left=True, bottom=True)\n",
        "\n",
        "# Criando o boxplot com média visível\n",
        "sns.boxplot(data=df['Amount'], ax=ax, showmeans=True)\n",
        "\n",
        "# Adicionando título e rótulos dos eixos\n",
        "ax.set_title(\"Boxplot dos Valores\", pad=20)\n",
        "ax.set_xlabel(\"Amount\")\n",
        "ax.set_ylabel(\"\")\n",
        "\n",
        "# Adicionando uma linha horizontal para a média\n",
        "mean_value = df['Amount'].mean()\n",
        "ax.axhline(mean_value, color='r', linestyle='--', label=f'Média: {mean_value:.2f}')\n",
        "ax.legend()\n",
        "\n",
        "plt.show()"
      ],
      "metadata": {
        "colab": {
          "base_uri": "https://localhost:8080/",
          "height": 570
        },
        "id": "Vj92cRdCrZef",
        "outputId": "152260a8-e654-443b-ac0e-e63adb8dd351"
      },
      "execution_count": 347,
      "outputs": [
        {
          "output_type": "display_data",
          "data": {
            "text/plain": [
              "<Figure size 800x600 with 1 Axes>"
            ],
            "image/png": "[encoded data removed]"
          },
          "metadata": {}
        }
      ]
    },
    {
      "cell_type": "code",
      "source": [
        "# Verificano valores outliers nas classes\n",
        "\n",
        "# Criando uma figura e eixo\n",
        "fig, ax = plt.subplots(figsize=(8, 6))\n",
        "\n",
        "# Removendo as bordas do gráfico\n",
        "sns.despine(ax=ax, left=True, bottom=True)\n",
        "\n",
        "# Criando o boxplot com média visível e especificando as cores\n",
        "palette = {'0': 'blue', '1': 'red'}\n",
        "sns.boxplot(x=df[\"Class\"].astype(str), y=df[\"Amount\"], showmeans=True, ax=ax, palette=palette)\n",
        "\n",
        "# Definindo os limites do eixo y\n",
        "plt.ylim((-20, 450))\n",
        "\n",
        "# Definindo os rótulos das classes\n",
        "plt.xticks([0, 1], [\"Real\", \"Fraude\"])\n",
        "\n",
        "# Adicionando título e rótulos dos eixos\n",
        "ax.set_title(\"Boxplot dos Valores por Classes\", pad=20)\n",
        "ax.set_xlabel(\"Classe\")\n",
        "ax.set_ylabel(\"Valor\")\n",
        "\n",
        "# Adicionando linhas horizontais para a média de cada classe com cores específicas\n",
        "class_means = df.groupby('Class')['Amount'].mean()\n",
        "colors = ['blue', 'red']\n",
        "for i, mean_value in enumerate(class_means):\n",
        "    ax.axhline(mean_value, color=colors[i], linestyle='--', label=f'Média da Classe {i}: {mean_value:.2f}', alpha=0.7)\n",
        "\n",
        "# Ajustando a legenda para evitar duplicatas\n",
        "handles, labels = ax.get_legend_handles_labels()\n",
        "by_label = dict(zip(labels, handles))\n",
        "ax.legend(by_label.values(), by_label.keys())\n",
        "\n",
        "plt.show()"
      ],
      "metadata": {
        "colab": {
          "base_uri": "https://localhost:8080/",
          "height": 696
        },
        "id": "b56dpMlWwqgp",
        "outputId": "ad9d3eb8-77a1-4b60-84a3-c7161d09c16f"
      },
      "execution_count": 348,
      "outputs": [
        {
          "output_type": "stream",
          "name": "stderr",
          "text": [
            "<ipython-input-348-507b8522d322>:11: FutureWarning: \n",
            "\n",
            "Passing `palette` without assigning `hue` is deprecated and will be removed in v0.14.0. Assign the `x` variable to `hue` and set `legend=False` for the same effect.\n",
            "\n",
            "  sns.boxplot(x=df[\"Class\"].astype(str), y=df[\"Amount\"], showmeans=True, ax=ax, palette=palette)\n"
          ]
        },
        {
          "output_type": "display_data",
          "data": {
            "text/plain": [
              "<Figure size 800x600 with 1 Axes>"
            ],
            "image/png": "[encoded data removed]"
          },
          "metadata": {}
        }
      ]
    },
    {
      "cell_type": "markdown",
      "source": [
        "- Ao analisarmos os boxplots, visualizamos claramente a presença de outliers na variável Amount, tanto nas classes reais quanto nas fraudulentas. Também é possível observar a média dos dados indicada por uma seta verde."
      ],
      "metadata": {
        "id": "4fGrZ4KUyO-N"
      }
    },
    {
      "cell_type": "markdown",
      "source": [
        "- Para finalizar a análise exploratória de dados, irei criar um histograma de Amount para a classe fraudulenta (1) e também farei uma descrição estatística de Amount para cada classe individualmente. Isso ajudará a identificar se há alguma correlação entre os valores outliers e a classe correspondente."
      ],
      "metadata": {
        "id": "8ICrvEpVzFMG"
      }
    },
    {
      "cell_type": "code",
      "source": [
        "# Plotaando histograma de \"Amount\" para a classe fraudulenta (1)\n",
        "\n",
        "fig, ax = plt.subplots(figsize=(8,6))\n",
        "\n",
        "amount_fraude = df['Amount'][df['Class'] == 1]\n",
        "\n",
        "ax.hist(amount_fraude, bins=8, rwidth=0.9, color='r')\n",
        "ax.set_xlabel(\"Amount\")\n",
        "ax.set_ylabel(\"Quantidade\")\n",
        "ax.set_title(\"Amount x Fraude\")\n",
        "plt.locator_params(axis='x', nbins=10)\n",
        "plt.show()"
      ],
      "metadata": {
        "colab": {
          "base_uri": "https://localhost:8080/",
          "height": 564
        },
        "id": "DhkxQMz6yRoD",
        "outputId": "633cb016-9c7e-4b4e-b243-837c62efe858"
      },
      "execution_count": 349,
      "outputs": [
        {
          "output_type": "display_data",
          "data": {
            "text/plain": [
              "<Figure size 800x600 with 1 Axes>"
            ],
            "image/png": "[encoded data removed]"
          },
          "metadata": {}
        }
      ]
    },
    {
      "cell_type": "code",
      "source": [
        "# Verificando descrição estatística para cada classes\n",
        "\n",
        "real_0 = df['Amount'][df['Class'] == 0]\n",
        "fraude_1 = df['Amount'][df['Class'] == 1]\n",
        "\n",
        "print(\"Valores Reais:\")\n",
        "print(real_0.describe())\n",
        "print(\"--------------------------------\")\n",
        "print(\"Valores Fraudulentos:\")\n",
        "print(fraude_1.describe())"
      ],
      "metadata": {
        "colab": {
          "base_uri": "https://localhost:8080/"
        },
        "id": "nXTd7TEj0ENV",
        "outputId": "3551348c-2e63-4148-86f4-8b5e2fbbafc9"
      },
      "execution_count": 350,
      "outputs": [
        {
          "output_type": "stream",
          "name": "stdout",
          "text": [
            "Valores Reais:\n",
            "count    241668.000000\n",
            "mean         88.543443\n",
            "std         247.613919\n",
            "min           0.000000\n",
            "25%           5.700000\n",
            "50%          22.000000\n",
            "75%          77.500000\n",
            "max       19656.530000\n",
            "Name: Amount, dtype: float64\n",
            "--------------------------------\n",
            "Valores Fraudulentos:\n",
            "count     418.000000\n",
            "mean      128.496722\n",
            "std       267.731154\n",
            "min         0.000000\n",
            "25%         1.000000\n",
            "50%        11.855000\n",
            "75%       106.812500\n",
            "max      2125.870000\n",
            "Name: Amount, dtype: float64\n"
          ]
        }
      ]
    },
    {
      "cell_type": "markdown",
      "source": [
        "- Com essas últimas análises, posso observar quê:\n",
        "\n",
        "  - A maioria das compras fraudulentas está entre 0 e 250.\n",
        "  - A média dos valores de transações reais e fraudulentas é bem diferente.\n",
        "    - Média das transações reais: 88,54.\n",
        "    - Média das transações fraudulentas: 128,49, uma diferença de 45%.\n",
        "    \n",
        "  A partir desses pontos, o modelo de Machine Learning pode considerar um valor mais alto como fraude, o que pode ser um problema. Agora, começaremos a preparar nossos dados para aplicar a um modelo."
      ],
      "metadata": {
        "id": "cCevSncU02of"
      }
    },
    {
      "cell_type": "markdown",
      "source": [
        "# **Modelagem e Preparação de Dados**"
      ],
      "metadata": {
        "id": "_mpSclue1aGd"
      }
    },
    {
      "cell_type": "markdown",
      "source": [
        "## Padronização dos Dados\n",
        "\n",
        "A padronização de dados, ou normalização, é um processo comum no pré-processamento de dados que transforma os valores das variáveis para uma escala comum. O objetivo é garantir que todas as variáveis tenham a mesma ordem de grandeza, eliminando diferenças de escala entre elas.\n",
        "\n",
        "A padronização envolve calcular a média e o desvio padrão dos dados, subtraindo a média de cada valor e dividindo pelo desvio padrão. Isso resulta em uma distribuição com média zero e desvio padrão um.\n",
        "\n",
        "Padronizarei as colunas Amount e Time. E como a variável Amount contém outliers, utilizarei a função StandardScaler da biblioteca Scikit-Learn para lidar com esse problema."
      ],
      "metadata": {
        "id": "zPnnP7QQ1_TW"
      }
    },
    {
      "cell_type": "code",
      "source": [
        "# Criando uma cópia do df original\n",
        "\n",
        "df_std = df.copy()"
      ],
      "metadata": {
        "id": "mJNYdUSaVynj"
      },
      "execution_count": 351,
      "outputs": []
    },
    {
      "cell_type": "code",
      "source": [
        "# Instanciando a função\n",
        "\n",
        "std_scaler = StandardScaler()"
      ],
      "metadata": {
        "id": "GvqLgjlRV2Nb"
      },
      "execution_count": 352,
      "outputs": []
    },
    {
      "cell_type": "code",
      "source": [
        "# Aplicando a transformação\n",
        "\n",
        "df_std[\"std_amount\"] = std_scaler.fit_transform(df_std[\"Amount\"].values.reshape(-1, 1))\n",
        "df_std[\"std_time\"] = std_scaler.fit_transform(df_std[\"Time\"].values.reshape(-1, 1))"
      ],
      "metadata": {
        "id": "6SCK471ZV557"
      },
      "execution_count": 353,
      "outputs": []
    },
    {
      "cell_type": "code",
      "source": [
        "# Excluindo as colunas \"Time\" e \"Amount\"\n",
        "\n",
        "df_std.drop(columns=[\"Time\", \"Amount\"], axis=1, inplace=True)"
      ],
      "metadata": {
        "id": "cmUTi3EvV_FF"
      },
      "execution_count": 354,
      "outputs": []
    },
    {
      "cell_type": "markdown",
      "source": [
        "- Exclui as colunas \"Time\" e \"Amount\", pois as mesmas tiveram os seu valores padronizados nas novas variáveis \"std_time\" e \"std_amount\"."
      ],
      "metadata": {
        "id": "wYABG7nxJlkz"
      }
    },
    {
      "cell_type": "code",
      "source": [
        "# Visualizando os padronizados\n",
        "\n",
        "df_std.head()"
      ],
      "metadata": {
        "colab": {
          "base_uri": "https://localhost:8080/",
          "height": 255
        },
        "id": "hySHGYHdWBHT",
        "outputId": "af770817-0d71-444e-e882-b6fbc72cbbec"
      },
      "execution_count": 355,
      "outputs": [
        {
          "output_type": "execute_result",
          "data": {
            "text/plain": [
              "         V1        V2        V3        V4        V5        V6        V7  \\\n",
              "0 -1.359807 -0.072781  2.536347  1.378155 -0.338321  0.462388  0.239599   \n",
              "1  1.191857  0.266151  0.166480  0.448154  0.060018 -0.082361 -0.078803   \n",
              "2 -1.358354 -1.340163  1.773209  0.379780 -0.503198  1.800499  0.791461   \n",
              "3 -0.966272 -0.185226  1.792993 -0.863291 -0.010309  1.247203  0.237609   \n",
              "4 -1.158233  0.877737  1.548718  0.403034 -0.407193  0.095921  0.592941   \n",
              "\n",
              "         V8        V9       V10  ...       V22       V23       V24       V25  \\\n",
              "0  0.098698  0.363787  0.090794  ...  0.277838 -0.110474  0.066928  0.128539   \n",
              "1  0.085102 -0.255425 -0.166974  ... -0.638672  0.101288 -0.339846  0.167170   \n",
              "2  0.247676 -1.514654  0.207643  ...  0.771679  0.909412 -0.689281 -0.327642   \n",
              "3  0.377436 -1.387024 -0.054952  ...  0.005274 -0.190321 -1.175575  0.647376   \n",
              "4 -0.270533  0.817739  0.753074  ...  0.798278 -0.137458  0.141267 -0.206010   \n",
              "\n",
              "        V26       V27       V28  Class  std_amount  std_time  \n",
              "0 -0.189115  0.133558 -0.021053      0    0.246341 -1.997399  \n",
              "1  0.125895 -0.008983  0.014724      0   -0.346945 -1.997399  \n",
              "2 -0.139097 -0.055353 -0.059752      0    1.171178 -1.997378  \n",
              "3 -0.221929  0.062723  0.061458      0    0.140872 -1.997378  \n",
              "4  0.502292  0.219422  0.215153      0   -0.075195 -1.997357  \n",
              "\n",
              "[5 rows x 31 columns]"
            ],
            "text/html": [
              "\n",
              "  <div id=\"df-f59edf92-af70-403e-a5b6-ef66bb601596\" class=\"colab-df-container\">\n",
              "    <div>\n",
              "<style scoped>\n",
              "    .dataframe tbody tr th:only-of-type {\n",
              "        vertical-align: middle;\n",
              "    }\n",
              "\n",
              "    .dataframe tbody tr th {\n",
              "        vertical-align: top;\n",
              "    }\n",
              "\n",
              "    .dataframe thead th {\n",
              "        text-align: right;\n",
              "    }\n",
              "</style>\n",
              "<table border=\"1\" class=\"dataframe\">\n",
              "  <thead>\n",
              "    <tr style=\"text-align: right;\">\n",
              "      <th></th>\n",
              "      <th>V1</th>\n",
              "      <th>V2</th>\n",
              "      <th>V3</th>\n",
              "      <th>V4</th>\n",
              "      <th>V5</th>\n",
              "      <th>V6</th>\n",
              "      <th>V7</th>\n",
              "      <th>V8</th>\n",
              "      <th>V9</th>\n",
              "      <th>V10</th>\n",
              "      <th>...</th>\n",
              "      <th>V22</th>\n",
              "      <th>V23</th>\n",
              "      <th>V24</th>\n",
              "      <th>V25</th>\n",
              "      <th>V26</th>\n",
              "      <th>V27</th>\n",
              "      <th>V28</th>\n",
              "      <th>Class</th>\n",
              "      <th>std_amount</th>\n",
              "      <th>std_time</th>\n",
              "    </tr>\n",
              "  </thead>\n",
              "  <tbody>\n",
              "    <tr>\n",
              "      <th>0</th>\n",
              "      <td>-1.359807</td>\n",
              "      <td>-0.072781</td>\n",
              "      <td>2.536347</td>\n",
              "      <td>1.378155</td>\n",
              "      <td>-0.338321</td>\n",
              "      <td>0.462388</td>\n",
              "      <td>0.239599</td>\n",
              "      <td>0.098698</td>\n",
              "      <td>0.363787</td>\n",
              "      <td>0.090794</td>\n",
              "      <td>...</td>\n",
              "      <td>0.277838</td>\n",
              "      <td>-0.110474</td>\n",
              "      <td>0.066928</td>\n",
              "      <td>0.128539</td>\n",
              "      <td>-0.189115</td>\n",
              "      <td>0.133558</td>\n",
              "      <td>-0.021053</td>\n",
              "      <td>0</td>\n",
              "      <td>0.246341</td>\n",
              "      <td>-1.997399</td>\n",
              "    </tr>\n",
              "    <tr>\n",
              "      <th>1</th>\n",
              "      <td>1.191857</td>\n",
              "      <td>0.266151</td>\n",
              "      <td>0.166480</td>\n",
              "      <td>0.448154</td>\n",
              "      <td>0.060018</td>\n",
              "      <td>-0.082361</td>\n",
              "      <td>-0.078803</td>\n",
              "      <td>0.085102</td>\n",
              "      <td>-0.255425</td>\n",
              "      <td>-0.166974</td>\n",
              "      <td>...</td>\n",
              "      <td>-0.638672</td>\n",
              "      <td>0.101288</td>\n",
              "      <td>-0.339846</td>\n",
              "      <td>0.167170</td>\n",
              "      <td>0.125895</td>\n",
              "      <td>-0.008983</td>\n",
              "      <td>0.014724</td>\n",
              "      <td>0</td>\n",
              "      <td>-0.346945</td>\n",
              "      <td>-1.997399</td>\n",
              "    </tr>\n",
              "    <tr>\n",
              "      <th>2</th>\n",
              "      <td>-1.358354</td>\n",
              "      <td>-1.340163</td>\n",
              "      <td>1.773209</td>\n",
              "      <td>0.379780</td>\n",
              "      <td>-0.503198</td>\n",
              "      <td>1.800499</td>\n",
              "      <td>0.791461</td>\n",
              "      <td>0.247676</td>\n",
              "      <td>-1.514654</td>\n",
              "      <td>0.207643</td>\n",
              "      <td>...</td>\n",
              "      <td>0.771679</td>\n",
              "      <td>0.909412</td>\n",
              "      <td>-0.689281</td>\n",
              "      <td>-0.327642</td>\n",
              "      <td>-0.139097</td>\n",
              "      <td>-0.055353</td>\n",
              "      <td>-0.059752</td>\n",
              "      <td>0</td>\n",
              "      <td>1.171178</td>\n",
              "      <td>-1.997378</td>\n",
              "    </tr>\n",
              "    <tr>\n",
              "      <th>3</th>\n",
              "      <td>-0.966272</td>\n",
              "      <td>-0.185226</td>\n",
              "      <td>1.792993</td>\n",
              "      <td>-0.863291</td>\n",
              "      <td>-0.010309</td>\n",
              "      <td>1.247203</td>\n",
              "      <td>0.237609</td>\n",
              "      <td>0.377436</td>\n",
              "      <td>-1.387024</td>\n",
              "      <td>-0.054952</td>\n",
              "      <td>...</td>\n",
              "      <td>0.005274</td>\n",
              "      <td>-0.190321</td>\n",
              "      <td>-1.175575</td>\n",
              "      <td>0.647376</td>\n",
              "      <td>-0.221929</td>\n",
              "      <td>0.062723</td>\n",
              "      <td>0.061458</td>\n",
              "      <td>0</td>\n",
              "      <td>0.140872</td>\n",
              "      <td>-1.997378</td>\n",
              "    </tr>\n",
              "    <tr>\n",
              "      <th>4</th>\n",
              "      <td>-1.158233</td>\n",
              "      <td>0.877737</td>\n",
              "      <td>1.548718</td>\n",
              "      <td>0.403034</td>\n",
              "      <td>-0.407193</td>\n",
              "      <td>0.095921</td>\n",
              "      <td>0.592941</td>\n",
              "      <td>-0.270533</td>\n",
              "      <td>0.817739</td>\n",
              "      <td>0.753074</td>\n",
              "      <td>...</td>\n",
              "      <td>0.798278</td>\n",
              "      <td>-0.137458</td>\n",
              "      <td>0.141267</td>\n",
              "      <td>-0.206010</td>\n",
              "      <td>0.502292</td>\n",
              "      <td>0.219422</td>\n",
              "      <td>0.215153</td>\n",
              "      <td>0</td>\n",
              "      <td>-0.075195</td>\n",
              "      <td>-1.997357</td>\n",
              "    </tr>\n",
              "  </tbody>\n",
              "</table>\n",
              "<p>5 rows × 31 columns</p>\n",
              "</div>\n",
              "    <div class=\"colab-df-buttons\">\n",
              "\n",
              "  <div class=\"colab-df-container\">\n",
              "    <button class=\"colab-df-convert\" onclick=\"convertToInteractive('df-f59edf92-af70-403e-a5b6-ef66bb601596')\"\n",
              "            title=\"Convert this dataframe to an interactive table.\"\n",
              "            style=\"display:none;\">\n",
              "\n",
              "  <svg xmlns=\"http://www.w3.org/2000/svg\" height=\"24px\" viewBox=\"0 -960 960 960\">\n",
              "    <path d=\"M120-120v-720h720v720H120Zm60-500h600v-160H180v160Zm220 220h160v-160H400v160Zm0 220h160v-160H400v160ZM180-400h160v-160H180v160Zm440 0h160v-160H620v160ZM180-180h160v-160H180v160Zm440 0h160v-160H620v160Z\"/>\n",
              "  </svg>\n",
              "    </button>\n",
              "\n",
              "  <style>\n",
              "    .colab-df-container {\n",
              "      display:flex;\n",
              "      gap: 12px;\n",
              "    }\n",
              "\n",
              "    .colab-df-convert {\n",
              "      background-color: #E8F0FE;\n",
              "      border: none;\n",
              "      border-radius: 50%;\n",
              "      cursor: pointer;\n",
              "      display: none;\n",
              "      fill: #1967D2;\n",
              "      height: 32px;\n",
              "      padding: 0 0 0 0;\n",
              "      width: 32px;\n",
              "    }\n",
              "\n",
              "    .colab-df-convert:hover {\n",
              "      background-color: #E2EBFA;\n",
              "      box-shadow: 0px 1px 2px rgba(60, 64, 67, 0.3), 0px 1px 3px 1px rgba(60, 64, 67, 0.15);\n",
              "      fill: #174EA6;\n",
              "    }\n",
              "\n",
              "    .colab-df-buttons div {\n",
              "      margin-bottom: 4px;\n",
              "    }\n",
              "\n",
              "    [theme=dark] .colab-df-convert {\n",
              "      background-color: #3B4455;\n",
              "      fill: #D2E3FC;\n",
              "    }\n",
              "\n",
              "    [theme=dark] .colab-df-convert:hover {\n",
              "      background-color: #434B5C;\n",
              "      box-shadow: 0px 1px 3px 1px rgba(0, 0, 0, 0.15);\n",
              "      filter: drop-shadow(0px 1px 2px rgba(0, 0, 0, 0.3));\n",
              "      fill: #FFFFFF;\n",
              "    }\n",
              "  </style>\n",
              "\n",
              "    <script>\n",
              "      const buttonEl =\n",
              "        document.querySelector('#df-f59edf92-af70-403e-a5b6-ef66bb601596 button.colab-df-convert');\n",
              "      buttonEl.style.display =\n",
              "        google.colab.kernel.accessAllowed ? 'block' : 'none';\n",
              "\n",
              "      async function convertToInteractive(key) {\n",
              "        const element = document.querySelector('#df-f59edf92-af70-403e-a5b6-ef66bb601596');\n",
              "        const dataTable =\n",
              "          await google.colab.kernel.invokeFunction('convertToInteractive',\n",
              "                                                    [key], {});\n",
              "        if (!dataTable) return;\n",
              "\n",
              "        const docLinkHtml = 'Like what you see? Visit the ' +\n",
              "          '<a target=\"_blank\" href=https://colab.research.google.com/notebooks/data_table.ipynb>data table notebook</a>'\n",
              "          + ' to learn more about interactive tables.';\n",
              "        element.innerHTML = '';\n",
              "        dataTable['output_type'] = 'display_data';\n",
              "        await google.colab.output.renderOutput(dataTable, element);\n",
              "        const docLink = document.createElement('div');\n",
              "        docLink.innerHTML = docLinkHtml;\n",
              "        element.appendChild(docLink);\n",
              "      }\n",
              "    </script>\n",
              "  </div>\n",
              "\n",
              "\n",
              "<div id=\"df-8dc135c2-deeb-4668-ace3-91f7f9c0c231\">\n",
              "  <button class=\"colab-df-quickchart\" onclick=\"quickchart('df-8dc135c2-deeb-4668-ace3-91f7f9c0c231')\"\n",
              "            title=\"Suggest charts\"\n",
              "            style=\"display:none;\">\n",
              "\n",
              "<svg xmlns=\"http://www.w3.org/2000/svg\" height=\"24px\"viewBox=\"0 0 24 24\"\n",
              "     width=\"24px\">\n",
              "    <g>\n",
              "        <path d=\"M19 3H5c-1.1 0-2 .9-2 2v14c0 1.1.9 2 2 2h14c1.1 0 2-.9 2-2V5c0-1.1-.9-2-2-2zM9 17H7v-7h2v7zm4 0h-2V7h2v10zm4 0h-2v-4h2v4z\"/>\n",
              "    </g>\n",
              "</svg>\n",
              "  </button>\n",
              "\n",
              "<style>\n",
              "  .colab-df-quickchart {\n",
              "      --bg-color: #E8F0FE;\n",
              "      --fill-color: #1967D2;\n",
              "      --hover-bg-color: #E2EBFA;\n",
              "      --hover-fill-color: #174EA6;\n",
              "      --disabled-fill-color: #AAA;\n",
              "      --disabled-bg-color: #DDD;\n",
              "  }\n",
              "\n",
              "  [theme=dark] .colab-df-quickchart {\n",
              "      --bg-color: #3B4455;\n",
              "      --fill-color: #D2E3FC;\n",
              "      --hover-bg-color: #434B5C;\n",
              "      --hover-fill-color: #FFFFFF;\n",
              "      --disabled-bg-color: #3B4455;\n",
              "      --disabled-fill-color: #666;\n",
              "  }\n",
              "\n",
              "  .colab-df-quickchart {\n",
              "    background-color: var(--bg-color);\n",
              "    border: none;\n",
              "    border-radius: 50%;\n",
              "    cursor: pointer;\n",
              "    display: none;\n",
              "    fill: var(--fill-color);\n",
              "    height: 32px;\n",
              "    padding: 0;\n",
              "    width: 32px;\n",
              "  }\n",
              "\n",
              "  .colab-df-quickchart:hover {\n",
              "    background-color: var(--hover-bg-color);\n",
              "    box-shadow: 0 1px 2px rgba(60, 64, 67, 0.3), 0 1px 3px 1px rgba(60, 64, 67, 0.15);\n",
              "    fill: var(--button-hover-fill-color);\n",
              "  }\n",
              "\n",
              "  .colab-df-quickchart-complete:disabled,\n",
              "  .colab-df-quickchart-complete:disabled:hover {\n",
              "    background-color: var(--disabled-bg-color);\n",
              "    fill: var(--disabled-fill-color);\n",
              "    box-shadow: none;\n",
              "  }\n",
              "\n",
              "  .colab-df-spinner {\n",
              "    border: 2px solid var(--fill-color);\n",
              "    border-color: transparent;\n",
              "    border-bottom-color: var(--fill-color);\n",
              "    animation:\n",
              "      spin 1s steps(1) infinite;\n",
              "  }\n",
              "\n",
              "  @keyframes spin {\n",
              "    0% {\n",
              "      border-color: transparent;\n",
              "      border-bottom-color: var(--fill-color);\n",
              "      border-left-color: var(--fill-color);\n",
              "    }\n",
              "    20% {\n",
              "      border-color: transparent;\n",
              "      border-left-color: var(--fill-color);\n",
              "      border-top-color: var(--fill-color);\n",
              "    }\n",
              "    30% {\n",
              "      border-color: transparent;\n",
              "      border-left-color: var(--fill-color);\n",
              "      border-top-color: var(--fill-color);\n",
              "      border-right-color: var(--fill-color);\n",
              "    }\n",
              "    40% {\n",
              "      border-color: transparent;\n",
              "      border-right-color: var(--fill-color);\n",
              "      border-top-color: var(--fill-color);\n",
              "    }\n",
              "    60% {\n",
              "      border-color: transparent;\n",
              "      border-right-color: var(--fill-color);\n",
              "    }\n",
              "    80% {\n",
              "      border-color: transparent;\n",
              "      border-right-color: var(--fill-color);\n",
              "      border-bottom-color: var(--fill-color);\n",
              "    }\n",
              "    90% {\n",
              "      border-color: transparent;\n",
              "      border-bottom-color: var(--fill-color);\n",
              "    }\n",
              "  }\n",
              "</style>\n",
              "\n",
              "  <script>\n",
              "    async function quickchart(key) {\n",
              "      const quickchartButtonEl =\n",
              "        document.querySelector('#' + key + ' button');\n",
              "      quickchartButtonEl.disabled = true;  // To prevent multiple clicks.\n",
              "      quickchartButtonEl.classList.add('colab-df-spinner');\n",
              "      try {\n",
              "        const charts = await google.colab.kernel.invokeFunction(\n",
              "            'suggestCharts', [key], {});\n",
              "      } catch (error) {\n",
              "        console.error('Error during call to suggestCharts:', error);\n",
              "      }\n",
              "      quickchartButtonEl.classList.remove('colab-df-spinner');\n",
              "      quickchartButtonEl.classList.add('colab-df-quickchart-complete');\n",
              "    }\n",
              "    (() => {\n",
              "      let quickchartButtonEl =\n",
              "        document.querySelector('#df-8dc135c2-deeb-4668-ace3-91f7f9c0c231 button');\n",
              "      quickchartButtonEl.style.display =\n",
              "        google.colab.kernel.accessAllowed ? 'block' : 'none';\n",
              "    })();\n",
              "  </script>\n",
              "</div>\n",
              "\n",
              "    </div>\n",
              "  </div>\n"
            ],
            "application/vnd.google.colaboratory.intrinsic+json": {
              "type": "dataframe",
              "variable_name": "df_std"
            }
          },
          "metadata": {},
          "execution_count": 355
        }
      ]
    },
    {
      "cell_type": "markdown",
      "source": [
        "- Agora após a transformação conseguimos perceber que os dados de \"std_amount\" e \"std_time\" estão no mesmo padrão da variáveis V1-V28, o que significa que estão todas em uma mesma escala."
      ],
      "metadata": {
        "id": "k2QVji2eU5hr"
      }
    },
    {
      "cell_type": "markdown",
      "source": [
        "## **Separando os Dados em Treino e Teste**\n",
        "\n",
        "- Com os dados padronizados, agora posso dividir o conjunto entre **Treino** (75%) e **Teste** (25%). Farei essa divisão antes de balancear os dados, usando apenas os dados de treino para o balanceamento. Assim, podemos avaliar a qualidade do nosso modelo durante a validação.\n",
        "\n",
        "- Usarei a função **train_test_split** com dois parâmetros para melhorar a separação dos dados: Stratify e Shuffle.\n",
        "\n",
        "  - **Stratify**: Mantém a distribuição das classes ou rótulos em ambos os conjuntos de treinamento e teste.\n",
        "  -  **Shuffle**: Embaralha os dados antes da divisão, evitando qualquer viés ou ordem nos dados."
      ],
      "metadata": {
        "id": "JQUBoewu2-YG"
      }
    },
    {
      "cell_type": "code",
      "source": [
        "# Separando os dados\n",
        "\n",
        "x = df_std.drop(\"Class\", axis=1)\n",
        "y = df_std[\"Class\"]"
      ],
      "metadata": {
        "id": "YZComXCpXmq1"
      },
      "execution_count": 356,
      "outputs": []
    },
    {
      "cell_type": "code",
      "source": [
        "# Dividindo os dados entre Treino e Teste\n",
        "\n",
        "x_train, x_test, y_train, y_test = train_test_split(x, y, test_size=0.25, stratify=y, shuffle=True)"
      ],
      "metadata": {
        "id": "7PW2sMeMXou0"
      },
      "execution_count": 357,
      "outputs": []
    },
    {
      "cell_type": "code",
      "source": [
        "# Visualizando a proporção dos dados\n",
        "\n",
        "print(f\"Dados Totais: {df_std.shape[0]}\")\n",
        "print(f\"Dados de Treino: {x_train.shape[0]}\")\n",
        "print(f\"Dados de Teste: {x_test.shape[0]}\")"
      ],
      "metadata": {
        "colab": {
          "base_uri": "https://localhost:8080/"
        },
        "id": "yu5MY3QzXz6O",
        "outputId": "0f87e3f9-82fc-4b57-bb32-31334d20c6fe"
      },
      "execution_count": 358,
      "outputs": [
        {
          "output_type": "stream",
          "name": "stdout",
          "text": [
            "Dados Totais: 242086\n",
            "Dados de Treino: 181564\n",
            "Dados de Teste: 60522\n"
          ]
        }
      ]
    },
    {
      "cell_type": "markdown",
      "source": [
        "- Observamos que os dados totais são 242.086, sendo 181.564 (75%) para treino e 60.522 (25%) para teste. Com os dados separados, a próxima etapa é o balanceamento do conjunto de classes."
      ],
      "metadata": {
        "id": "5s3DrGiDYVDE"
      }
    },
    {
      "cell_type": "markdown",
      "source": [
        "## Balanceamento de Classes\n",
        "\n",
        "O balanceamento é crucial para lidar com conjuntos de dados desequilibrados, nos quais algumas classes têm um número significativamente menor de exemplos. Isso pode causar problemas durante o treinamento do modelo, levando à necessidade de técnicas de balanceamento.\n",
        "\n",
        "Existem duas técnicas comuns:\n",
        "\n",
        "- **Oversampling**: Aumenta a classe minoritária replicando ou gerando exemplos adicionais para igualar o número de exemplos entre as classes.\n",
        "- **Undersampling**: Reduz a classe majoritária removendo exemplos para equilibrar o número de exemplos entre as classes e evitar viés em direção à classe majoritária.\n",
        "\n",
        "Para este projeto, optei por usar o método de Undersampling da biblioteca **imblearn**, para balancear os dados."
      ],
      "metadata": {
        "id": "3Z6SUL6Z3Mwt"
      }
    },
    {
      "cell_type": "code",
      "source": [
        "# Instanciando a função do imblearn\n",
        "\n",
        "under_sampler = RandomUnderSampler()"
      ],
      "metadata": {
        "id": "NfYyA8FeaHUU"
      },
      "execution_count": 359,
      "outputs": []
    },
    {
      "cell_type": "code",
      "source": [
        "# Aplicando a transformação\n",
        "\n",
        "x_bal, y_bal = under_sampler.fit_resample(x_train, y_train)"
      ],
      "metadata": {
        "id": "Q3YZA10JaI8k"
      },
      "execution_count": 360,
      "outputs": []
    },
    {
      "cell_type": "code",
      "source": [
        "# Conferindo o balanceamento\n",
        "\n",
        "value_counts = y_bal.value_counts()\n",
        "print(value_counts)\n",
        "\n",
        "# Conferindo com um gráfico de barras\n",
        "\n",
        "fig, ax = plt.subplots(figsize=(8,6))\n",
        "\n",
        "color_mapping = {0: 'b', 1: 'r'}\n",
        "colors = [color_mapping.get(x, 'cor padrão') for x in y_bal.unique()]\n",
        "\n",
        "ax = value_counts.plot(kind='bar', color=colors)\n",
        "\n",
        "# Adicionando legenda para o valor de ocorrências de classe\n",
        "for i in range(len(value_counts)):\n",
        "    ax.text(i, value_counts[i] + 1, str(value_counts[i]), ha='center', va='bottom')\n",
        "\n",
        "plt.show()"
      ],
      "metadata": {
        "colab": {
          "base_uri": "https://localhost:8080/",
          "height": 611
        },
        "id": "btzKnnOkbo6t",
        "outputId": "14f2aa6e-ea85-4664-9e39-e77a57cc7012"
      },
      "execution_count": 361,
      "outputs": [
        {
          "output_type": "stream",
          "name": "stdout",
          "text": [
            "Class\n",
            "0    313\n",
            "1    313\n",
            "Name: count, dtype: int64\n"
          ]
        },
        {
          "output_type": "display_data",
          "data": {
            "text/plain": [
              "<Figure size 800x600 with 1 Axes>"
            ],
            "image/png": "[encoded data removed]"
          },
          "metadata": {}
        }
      ]
    },
    {
      "cell_type": "markdown",
      "source": [
        "- Após o balanceamento, observo no gráfico como as classes estão distribuídas de maneira mais equilibrada. Esse processo ajuda a evitar o Overfitting, no qual o modelo se torna excessivamente preciso com os dados de treinamento, mas não generaliza bem para novos dados.\n",
        "\n",
        "- A próxima etapa será plotar matrizes de correlação para os dados desbalanceados e balanceados, para verificar se houve alguma mudança.\n",
        "\n",
        "- Em seguida, avançarei para a construção dos modelos de Machine Learning."
      ],
      "metadata": {
        "id": "CntJDYaBc7l8"
      }
    },
    {
      "cell_type": "code",
      "source": [
        "# Aplicando a correlação\n",
        "\n",
        "corr_balanceados = x_bal.corr()\n",
        "corr_desbalanceados = x_train.corr()"
      ],
      "metadata": {
        "id": "YE5sOn8oc7Q8"
      },
      "execution_count": 362,
      "outputs": []
    },
    {
      "cell_type": "code",
      "source": [
        "# Visualizando a matriz de correlação dos dados balancedos e desbalanceados\n",
        "\n",
        "fig, ax = plt.subplots(nrows=1, ncols=2, figsize=(16, 6))\n",
        "fig.suptitle(\"Matriz de Correlação\")\n",
        "\n",
        "sns.heatmap(corr_desbalanceados, ax=ax[0], linewidth=.01, cmap=\"crest\")\n",
        "ax[0].set_title(\"Dados Desbalanceados\")\n",
        "sns.heatmap(corr_balanceados, ax=ax[1], linewidth=.01, cmap=\"crest\")\n",
        "ax[1].set_title(\"Dados Balanceados\")"
      ],
      "metadata": {
        "colab": {
          "base_uri": "https://localhost:8080/",
          "height": 552
        },
        "id": "QSp79Zf0dQqz",
        "outputId": "256e1620-da9b-4d99-86ee-493f4707423c"
      },
      "execution_count": 363,
      "outputs": [
        {
          "output_type": "execute_result",
          "data": {
            "text/plain": [
              "Text(0.5, 1.0, 'Dados Balanceados')"
            ]
          },
          "metadata": {},
          "execution_count": 363
        },
        {
          "output_type": "display_data",
          "data": {
            "text/plain": [
              "<Figure size 1600x600 with 4 Axes>"
            ],
            "image/png": "[encoded data removed]"
          },
          "metadata": {}
        }
      ]
    },
    {
      "cell_type": "markdown",
      "source": [
        "- Após o balanceamento, observo que as variáveis apresentam uma correlação mais forte do que antes. Para entender melhor, vejamos como funciona a correlação, que varia de -1 a 1:\n",
        "\n",
        "  - Próximo de 1: correlação positiva forte, as variáveis variam na mesma direção.\n",
        "  - Próximo de -1: correlação negativa forte, uma variável aumenta enquanto a outra diminui.\n",
        "  - Próximo de 0: correlação fraca ou nula, sem relação linear aparente.\n",
        "\n",
        "- Irei agora começar a trabalhar nos modelos de Machine Learning."
      ],
      "metadata": {
        "id": "7csTiI4vdvwj"
      }
    },
    {
      "cell_type": "markdown",
      "source": [
        "# **Modelos**\n",
        "\n",
        "Machine Learning é uma área da inteligência artificial em que os computadores aprendem com dados, identificando padrões e tomando decisões sem programação direta. Nesse projeto de Detecção de Fraude em Cartão de Crédito, utilizarei de técnicas de Machine Learning para identificar padrões de fraudes e prevenir possíveis casos. Testarei dois algoritmos de classificação: a Regressão Logística e Árvore de Decisão, para determinar qual é mais eficaz."
      ],
      "metadata": {
        "id": "H18WjSHI3S0u"
      }
    },
    {
      "cell_type": "markdown",
      "source": [
        "## **Regressão Logística**\n",
        "\n",
        "A Regressão Logística é um algoritmo de aprendizado de máquina usado para problemas de classificação. Prevê a probabilidade de uma variável pertencer a uma classe com base em variáveis independentes. É útil para problemas binários, como prever se um evento ocorrerá ou não. É usado na medicina, na área de finanças, marketing e análise de dados para tomada de decisões e previsões baseadas em dados."
      ],
      "metadata": {
        "id": "dgRbShaO3Zf1"
      }
    },
    {
      "cell_type": "markdown",
      "source": [
        "### Previsão com dados de teste"
      ],
      "metadata": {
        "id": "bHTk2KVEl1BH"
      }
    },
    {
      "cell_type": "code",
      "source": [
        "# Criando o modelo\n",
        "\n",
        "np.random.seed(2)\n",
        "reg_log = LogisticRegression()"
      ],
      "metadata": {
        "id": "3oYCBcc0mX3I"
      },
      "execution_count": 364,
      "outputs": []
    },
    {
      "cell_type": "code",
      "source": [
        "# Treinando o modelo\n",
        "\n",
        "reg_log.fit(x_bal, y_bal)"
      ],
      "metadata": {
        "colab": {
          "base_uri": "https://localhost:8080/",
          "height": 75
        },
        "id": "cd51DHq1mjpw",
        "outputId": "a19ec4ba-245c-4aaa-978c-9cad2a06fd81"
      },
      "execution_count": 365,
      "outputs": [
        {
          "output_type": "execute_result",
          "data": {
            "text/plain": [
              "LogisticRegression()"
            ],
            "text/html": [
              "<style>#sk-container-id-9 {color: black;background-color: white;}#sk-container-id-9 pre{padding: 0;}#sk-container-id-9 div.sk-toggleable {background-color: white;}#sk-container-id-9 label.sk-toggleable__label {cursor: pointer;display: block;width: 100%;margin-bottom: 0;padding: 0.3em;box-sizing: border-box;text-align: center;}#sk-container-id-9 label.sk-toggleable__label-arrow:before {content: \"▸\";float: left;margin-right: 0.25em;color: #696969;}#sk-container-id-9 label.sk-toggleable__label-arrow:hover:before {color: black;}#sk-container-id-9 div.sk-estimator:hover label.sk-toggleable__label-arrow:before {color: black;}#sk-container-id-9 div.sk-toggleable__content {max-height: 0;max-width: 0;overflow: hidden;text-align: left;background-color: #f0f8ff;}#sk-container-id-9 div.sk-toggleable__content pre {margin: 0.2em;color: black;border-radius: 0.25em;background-color: #f0f8ff;}#sk-container-id-9 input.sk-toggleable__control:checked~div.sk-toggleable__content {max-height: 200px;max-width: 100%;overflow: auto;}#sk-container-id-9 input.sk-toggleable__control:checked~label.sk-toggleable__label-arrow:before {content: \"▾\";}#sk-container-id-9 div.sk-estimator input.sk-toggleable__control:checked~label.sk-toggleable__label {background-color: #d4ebff;}#sk-container-id-9 div.sk-label input.sk-toggleable__control:checked~label.sk-toggleable__label {background-color: #d4ebff;}#sk-container-id-9 input.sk-hidden--visually {border: 0;clip: rect(1px 1px 1px 1px);clip: rect(1px, 1px, 1px, 1px);height: 1px;margin: -1px;overflow: hidden;padding: 0;position: absolute;width: 1px;}#sk-container-id-9 div.sk-estimator {font-family: monospace;background-color: #f0f8ff;border: 1px dotted black;border-radius: 0.25em;box-sizing: border-box;margin-bottom: 0.5em;}#sk-container-id-9 div.sk-estimator:hover {background-color: #d4ebff;}#sk-container-id-9 div.sk-parallel-item::after {content: \"\";width: 100%;border-bottom: 1px solid gray;flex-grow: 1;}#sk-container-id-9 div.sk-label:hover label.sk-toggleable__label {background-color: #d4ebff;}#sk-container-id-9 div.sk-serial::before {content: \"\";position: absolute;border-left: 1px solid gray;box-sizing: border-box;top: 0;bottom: 0;left: 50%;z-index: 0;}#sk-container-id-9 div.sk-serial {display: flex;flex-direction: column;align-items: center;background-color: white;padding-right: 0.2em;padding-left: 0.2em;position: relative;}#sk-container-id-9 div.sk-item {position: relative;z-index: 1;}#sk-container-id-9 div.sk-parallel {display: flex;align-items: stretch;justify-content: center;background-color: white;position: relative;}#sk-container-id-9 div.sk-item::before, #sk-container-id-9 div.sk-parallel-item::before {content: \"\";position: absolute;border-left: 1px solid gray;box-sizing: border-box;top: 0;bottom: 0;left: 50%;z-index: -1;}#sk-container-id-9 div.sk-parallel-item {display: flex;flex-direction: column;z-index: 1;position: relative;background-color: white;}#sk-container-id-9 div.sk-parallel-item:first-child::after {align-self: flex-end;width: 50%;}#sk-container-id-9 div.sk-parallel-item:last-child::after {align-self: flex-start;width: 50%;}#sk-container-id-9 div.sk-parallel-item:only-child::after {width: 0;}#sk-container-id-9 div.sk-dashed-wrapped {border: 1px dashed gray;margin: 0 0.4em 0.5em 0.4em;box-sizing: border-box;padding-bottom: 0.4em;background-color: white;}#sk-container-id-9 div.sk-label label {font-family: monospace;font-weight: bold;display: inline-block;line-height: 1.2em;}#sk-container-id-9 div.sk-label-container {text-align: center;}#sk-container-id-9 div.sk-container {/* jupyter's `normalize.less` sets `[hidden] { display: none; }` but bootstrap.min.css set `[hidden] { display: none !important; }` so we also need the `!important` here to be able to override the default hidden behavior on the sphinx rendered scikit-learn.org. See: https://github.com/scikit-learn/scikit-learn/issues/21755 */display: inline-block !important;position: relative;}#sk-container-id-9 div.sk-text-repr-fallback {display: none;}</style><div id=\"sk-container-id-9\" class=\"sk-top-container\"><div class=\"sk-text-repr-fallback\"><pre>LogisticRegression()</pre><b>In a Jupyter environment, please rerun this cell to show the HTML representation or trust the notebook. <br />On GitHub, the HTML representation is unable to render, please try loading this page with nbviewer.org.</b></div><div class=\"sk-container\" hidden><div class=\"sk-item\"><div class=\"sk-estimator sk-toggleable\"><input class=\"sk-toggleable__control sk-hidden--visually\" id=\"sk-estimator-id-9\" type=\"checkbox\" checked><label for=\"sk-estimator-id-9\" class=\"sk-toggleable__label sk-toggleable__label-arrow\">LogisticRegression</label><div class=\"sk-toggleable__content\"><pre>LogisticRegression()</pre></div></div></div></div></div>"
            ]
          },
          "metadata": {},
          "execution_count": 365
        }
      ]
    },
    {
      "cell_type": "code",
      "source": [
        "# Fazendo previsão com os dados de teste\n",
        "\n",
        "y_predict = reg_log.predict(x_bal)\n",
        "y_probability = reg_log.predict_proba(x_bal)"
      ],
      "metadata": {
        "id": "QWAHrdkDmowu"
      },
      "execution_count": 366,
      "outputs": []
    },
    {
      "cell_type": "markdown",
      "source": [
        "### Métricas de Avaliação"
      ],
      "metadata": {
        "id": "QtThDIC3m24A"
      }
    },
    {
      "cell_type": "code",
      "source": [
        "# Criando o relatório\n",
        "\n",
        "print(f\"Relatório de Classificação:\\n {classification_report(y_bal, y_predict, digits=3)}\")\n",
        "print(f\"Acurácia: {accuracy_score(y_bal, y_predict):.3f}\\n\")\n",
        "print(f\"AUC: {roc_auc_score(y_bal, y_predict):.3f}\")\n",
        "\n",
        "# Criando e plotando a matriz de confusão\n",
        "\n",
        "matriz = confusion_matrix(y_bal, y_predict, normalize=\"true\")\n",
        "\n",
        "sns.heatmap(matriz, annot=True)\n",
        "plt.xlabel(\"Predict\")\n",
        "plt.ylabel(\"Verdadeiro\")\n",
        "plt.show()"
      ],
      "metadata": {
        "colab": {
          "base_uri": "https://localhost:8080/",
          "height": 689
        },
        "id": "GF679GC_nfZQ",
        "outputId": "58356bb4-f330-457d-ae92-63d6db309ef4"
      },
      "execution_count": 367,
      "outputs": [
        {
          "output_type": "stream",
          "name": "stdout",
          "text": [
            "Relatório de Classificação:\n",
            "               precision    recall  f1-score   support\n",
            "\n",
            "           0      0.922     0.978     0.949       313\n",
            "           1      0.976     0.917     0.946       313\n",
            "\n",
            "    accuracy                          0.947       626\n",
            "   macro avg      0.949     0.947     0.947       626\n",
            "weighted avg      0.949     0.947     0.947       626\n",
            "\n",
            "Acurácia: 0.947\n",
            "\n",
            "AUC: 0.947\n"
          ]
        },
        {
          "output_type": "display_data",
          "data": {
            "text/plain": [
              "<Figure size 640x480 with 2 Axes>"
            ],
            "image/png": "[encoded data removed]"
          },
          "metadata": {}
        }
      ]
    },
    {
      "cell_type": "markdown",
      "source": [
        "- Observando os resultados anteriores, posso apontar algumas conclusões do nosso modelo aplicado aos dados de validação:\n",
        "\n",
        "  - O modelo previu corretamente 93% das fraudes, um valor excelente.\n",
        "  - Alcançamos uma acurácia de 94%.\n",
        "  - O AUC também foi de 94%.\n",
        "\n",
        "- Quanto mais próximos de 100%, melhor são esses resultados."
      ],
      "metadata": {
        "id": "pt2Z8cZzoIiW"
      }
    },
    {
      "cell_type": "markdown",
      "source": [
        "### Previsão com dados de Validação\n",
        "\n",
        "No início do projeto, reservei 15% dos dados para validar o modelo, sem usá-los nas análises. Agora irei aplicar esses dados ao modelo após padronizar as colunas Time e Amount, como feito anteriormente."
      ],
      "metadata": {
        "id": "egF-8I6HmBKY"
      }
    },
    {
      "cell_type": "code",
      "source": [
        "# Criando um cópia do df\n",
        "\n",
        "df_validacao = validacao.copy()"
      ],
      "metadata": {
        "id": "YhSAgZ3fpN7G"
      },
      "execution_count": 368,
      "outputs": []
    },
    {
      "cell_type": "code",
      "source": [
        "# Fazendo a padronização\n",
        "\n",
        "std_scaler = StandardScaler()\n",
        "\n",
        "df_validacao[\"std_amount\"] = std_scaler.fit_transform(df_validacao[\"Amount\"].values.reshape(-1, 1))\n",
        "df_validacao[\"std_time\"] = std_scaler.fit_transform(df_validacao[\"Time\"].values.reshape(-1, 1))"
      ],
      "metadata": {
        "id": "cRW1s1bsqY4e"
      },
      "execution_count": 369,
      "outputs": []
    },
    {
      "cell_type": "code",
      "source": [
        "# Apagando colunas\n",
        "\n",
        "df_validacao.drop(columns=[\"Amount\", \"Time\"], axis=1, inplace=True)"
      ],
      "metadata": {
        "id": "B5NUDvNWqlD_"
      },
      "execution_count": 370,
      "outputs": []
    },
    {
      "cell_type": "code",
      "source": [
        "# Visualizando o df de validação\n",
        "\n",
        "df_validacao.head()"
      ],
      "metadata": {
        "colab": {
          "base_uri": "https://localhost:8080/",
          "height": 255
        },
        "id": "NykAhe_UquTX",
        "outputId": "ad12d552-8c7f-4af8-b4b2-e8ebaf4c7cbc"
      },
      "execution_count": 198,
      "outputs": [
        {
          "output_type": "execute_result",
          "data": {
            "text/plain": [
              "              V1        V2        V3        V4        V5        V6        V7  \\\n",
              "183484 -0.323334  1.057455 -0.048341 -0.607204  1.259821 -0.091761  1.159101   \n",
              "255448 -0.349718  0.932619  0.142992 -0.657071  1.169784 -0.733369  1.009985   \n",
              "244749 -1.614711 -2.406570  0.326194  0.665520  2.369268 -1.775367 -1.139049   \n",
              "63919  -2.477184  0.860613  1.441850  1.051019 -1.856621  2.078384  0.510828   \n",
              "11475   1.338831 -0.547264  0.737389 -0.212383 -1.110039 -0.525744 -0.801403   \n",
              "\n",
              "              V8        V9       V10  ...       V22       V23       V24  \\\n",
              "183484 -0.124335 -0.174640 -1.644401  ... -0.433890 -0.261613 -0.046651   \n",
              "255448 -0.071069 -0.302083 -1.192404  ... -0.833209 -0.030360  0.490035   \n",
              "244749  0.329904  0.903813 -0.219013  ...  1.134489  0.965054  0.640981   \n",
              "63919  -0.243399 -0.260691  0.133040  ...  0.692245  0.150121 -0.260777   \n",
              "11475  -0.063672  0.997276  0.113386  ... -0.074719  0.067055  0.333122   \n",
              "\n",
              "             V25       V26       V27       V28  Class  std_amount  std_time  \n",
              "183484  0.211512  0.008297  0.108494  0.161139      0   -0.177738  0.658372  \n",
              "255448 -0.404816  0.134350  0.076830  0.175562      0   -0.321945  1.320094  \n",
              "244749 -1.801998 -1.041114  0.286285  0.437322      0    0.034666  1.219742  \n",
              "63919   0.005183 -0.177847 -0.510060 -0.660533      0    0.838765 -0.919236  \n",
              "11475   0.379087 -0.268706 -0.002769  0.003272      0   -0.310490 -1.572827  \n",
              "\n",
              "[5 rows x 31 columns]"
            ],
            "text/html": [
              "\n",
              "  <div id=\"df-39cab56c-6bf5-4c5d-88b1-f3775f9378b1\" class=\"colab-df-container\">\n",
              "    <div>\n",
              "<style scoped>\n",
              "    .dataframe tbody tr th:only-of-type {\n",
              "        vertical-align: middle;\n",
              "    }\n",
              "\n",
              "    .dataframe tbody tr th {\n",
              "        vertical-align: top;\n",
              "    }\n",
              "\n",
              "    .dataframe thead th {\n",
              "        text-align: right;\n",
              "    }\n",
              "</style>\n",
              "<table border=\"1\" class=\"dataframe\">\n",
              "  <thead>\n",
              "    <tr style=\"text-align: right;\">\n",
              "      <th></th>\n",
              "      <th>V1</th>\n",
              "      <th>V2</th>\n",
              "      <th>V3</th>\n",
              "      <th>V4</th>\n",
              "      <th>V5</th>\n",
              "      <th>V6</th>\n",
              "      <th>V7</th>\n",
              "      <th>V8</th>\n",
              "      <th>V9</th>\n",
              "      <th>V10</th>\n",
              "      <th>...</th>\n",
              "      <th>V22</th>\n",
              "      <th>V23</th>\n",
              "      <th>V24</th>\n",
              "      <th>V25</th>\n",
              "      <th>V26</th>\n",
              "      <th>V27</th>\n",
              "      <th>V28</th>\n",
              "      <th>Class</th>\n",
              "      <th>std_amount</th>\n",
              "      <th>std_time</th>\n",
              "    </tr>\n",
              "  </thead>\n",
              "  <tbody>\n",
              "    <tr>\n",
              "      <th>183484</th>\n",
              "      <td>-0.323334</td>\n",
              "      <td>1.057455</td>\n",
              "      <td>-0.048341</td>\n",
              "      <td>-0.607204</td>\n",
              "      <td>1.259821</td>\n",
              "      <td>-0.091761</td>\n",
              "      <td>1.159101</td>\n",
              "      <td>-0.124335</td>\n",
              "      <td>-0.174640</td>\n",
              "      <td>-1.644401</td>\n",
              "      <td>...</td>\n",
              "      <td>-0.433890</td>\n",
              "      <td>-0.261613</td>\n",
              "      <td>-0.046651</td>\n",
              "      <td>0.211512</td>\n",
              "      <td>0.008297</td>\n",
              "      <td>0.108494</td>\n",
              "      <td>0.161139</td>\n",
              "      <td>0</td>\n",
              "      <td>-0.177738</td>\n",
              "      <td>0.658372</td>\n",
              "    </tr>\n",
              "    <tr>\n",
              "      <th>255448</th>\n",
              "      <td>-0.349718</td>\n",
              "      <td>0.932619</td>\n",
              "      <td>0.142992</td>\n",
              "      <td>-0.657071</td>\n",
              "      <td>1.169784</td>\n",
              "      <td>-0.733369</td>\n",
              "      <td>1.009985</td>\n",
              "      <td>-0.071069</td>\n",
              "      <td>-0.302083</td>\n",
              "      <td>-1.192404</td>\n",
              "      <td>...</td>\n",
              "      <td>-0.833209</td>\n",
              "      <td>-0.030360</td>\n",
              "      <td>0.490035</td>\n",
              "      <td>-0.404816</td>\n",
              "      <td>0.134350</td>\n",
              "      <td>0.076830</td>\n",
              "      <td>0.175562</td>\n",
              "      <td>0</td>\n",
              "      <td>-0.321945</td>\n",
              "      <td>1.320094</td>\n",
              "    </tr>\n",
              "    <tr>\n",
              "      <th>244749</th>\n",
              "      <td>-1.614711</td>\n",
              "      <td>-2.406570</td>\n",
              "      <td>0.326194</td>\n",
              "      <td>0.665520</td>\n",
              "      <td>2.369268</td>\n",
              "      <td>-1.775367</td>\n",
              "      <td>-1.139049</td>\n",
              "      <td>0.329904</td>\n",
              "      <td>0.903813</td>\n",
              "      <td>-0.219013</td>\n",
              "      <td>...</td>\n",
              "      <td>1.134489</td>\n",
              "      <td>0.965054</td>\n",
              "      <td>0.640981</td>\n",
              "      <td>-1.801998</td>\n",
              "      <td>-1.041114</td>\n",
              "      <td>0.286285</td>\n",
              "      <td>0.437322</td>\n",
              "      <td>0</td>\n",
              "      <td>0.034666</td>\n",
              "      <td>1.219742</td>\n",
              "    </tr>\n",
              "    <tr>\n",
              "      <th>63919</th>\n",
              "      <td>-2.477184</td>\n",
              "      <td>0.860613</td>\n",
              "      <td>1.441850</td>\n",
              "      <td>1.051019</td>\n",
              "      <td>-1.856621</td>\n",
              "      <td>2.078384</td>\n",
              "      <td>0.510828</td>\n",
              "      <td>-0.243399</td>\n",
              "      <td>-0.260691</td>\n",
              "      <td>0.133040</td>\n",
              "      <td>...</td>\n",
              "      <td>0.692245</td>\n",
              "      <td>0.150121</td>\n",
              "      <td>-0.260777</td>\n",
              "      <td>0.005183</td>\n",
              "      <td>-0.177847</td>\n",
              "      <td>-0.510060</td>\n",
              "      <td>-0.660533</td>\n",
              "      <td>0</td>\n",
              "      <td>0.838765</td>\n",
              "      <td>-0.919236</td>\n",
              "    </tr>\n",
              "    <tr>\n",
              "      <th>11475</th>\n",
              "      <td>1.338831</td>\n",
              "      <td>-0.547264</td>\n",
              "      <td>0.737389</td>\n",
              "      <td>-0.212383</td>\n",
              "      <td>-1.110039</td>\n",
              "      <td>-0.525744</td>\n",
              "      <td>-0.801403</td>\n",
              "      <td>-0.063672</td>\n",
              "      <td>0.997276</td>\n",
              "      <td>0.113386</td>\n",
              "      <td>...</td>\n",
              "      <td>-0.074719</td>\n",
              "      <td>0.067055</td>\n",
              "      <td>0.333122</td>\n",
              "      <td>0.379087</td>\n",
              "      <td>-0.268706</td>\n",
              "      <td>-0.002769</td>\n",
              "      <td>0.003272</td>\n",
              "      <td>0</td>\n",
              "      <td>-0.310490</td>\n",
              "      <td>-1.572827</td>\n",
              "    </tr>\n",
              "  </tbody>\n",
              "</table>\n",
              "<p>5 rows × 31 columns</p>\n",
              "</div>\n",
              "    <div class=\"colab-df-buttons\">\n",
              "\n",
              "  <div class=\"colab-df-container\">\n",
              "    <button class=\"colab-df-convert\" onclick=\"convertToInteractive('df-39cab56c-6bf5-4c5d-88b1-f3775f9378b1')\"\n",
              "            title=\"Convert this dataframe to an interactive table.\"\n",
              "            style=\"display:none;\">\n",
              "\n",
              "  <svg xmlns=\"http://www.w3.org/2000/svg\" height=\"24px\" viewBox=\"0 -960 960 960\">\n",
              "    <path d=\"M120-120v-720h720v720H120Zm60-500h600v-160H180v160Zm220 220h160v-160H400v160Zm0 220h160v-160H400v160ZM180-400h160v-160H180v160Zm440 0h160v-160H620v160ZM180-180h160v-160H180v160Zm440 0h160v-160H620v160Z\"/>\n",
              "  </svg>\n",
              "    </button>\n",
              "\n",
              "  <style>\n",
              "    .colab-df-container {\n",
              "      display:flex;\n",
              "      gap: 12px;\n",
              "    }\n",
              "\n",
              "    .colab-df-convert {\n",
              "      background-color: #E8F0FE;\n",
              "      border: none;\n",
              "      border-radius: 50%;\n",
              "      cursor: pointer;\n",
              "      display: none;\n",
              "      fill: #1967D2;\n",
              "      height: 32px;\n",
              "      padding: 0 0 0 0;\n",
              "      width: 32px;\n",
              "    }\n",
              "\n",
              "    .colab-df-convert:hover {\n",
              "      background-color: #E2EBFA;\n",
              "      box-shadow: 0px 1px 2px rgba(60, 64, 67, 0.3), 0px 1px 3px 1px rgba(60, 64, 67, 0.15);\n",
              "      fill: #174EA6;\n",
              "    }\n",
              "\n",
              "    .colab-df-buttons div {\n",
              "      margin-bottom: 4px;\n",
              "    }\n",
              "\n",
              "    [theme=dark] .colab-df-convert {\n",
              "      background-color: #3B4455;\n",
              "      fill: #D2E3FC;\n",
              "    }\n",
              "\n",
              "    [theme=dark] .colab-df-convert:hover {\n",
              "      background-color: #434B5C;\n",
              "      box-shadow: 0px 1px 3px 1px rgba(0, 0, 0, 0.15);\n",
              "      filter: drop-shadow(0px 1px 2px rgba(0, 0, 0, 0.3));\n",
              "      fill: #FFFFFF;\n",
              "    }\n",
              "  </style>\n",
              "\n",
              "    <script>\n",
              "      const buttonEl =\n",
              "        document.querySelector('#df-39cab56c-6bf5-4c5d-88b1-f3775f9378b1 button.colab-df-convert');\n",
              "      buttonEl.style.display =\n",
              "        google.colab.kernel.accessAllowed ? 'block' : 'none';\n",
              "\n",
              "      async function convertToInteractive(key) {\n",
              "        const element = document.querySelector('#df-39cab56c-6bf5-4c5d-88b1-f3775f9378b1');\n",
              "        const dataTable =\n",
              "          await google.colab.kernel.invokeFunction('convertToInteractive',\n",
              "                                                    [key], {});\n",
              "        if (!dataTable) return;\n",
              "\n",
              "        const docLinkHtml = 'Like what you see? Visit the ' +\n",
              "          '<a target=\"_blank\" href=https://colab.research.google.com/notebooks/data_table.ipynb>data table notebook</a>'\n",
              "          + ' to learn more about interactive tables.';\n",
              "        element.innerHTML = '';\n",
              "        dataTable['output_type'] = 'display_data';\n",
              "        await google.colab.output.renderOutput(dataTable, element);\n",
              "        const docLink = document.createElement('div');\n",
              "        docLink.innerHTML = docLinkHtml;\n",
              "        element.appendChild(docLink);\n",
              "      }\n",
              "    </script>\n",
              "  </div>\n",
              "\n",
              "\n",
              "<div id=\"df-26d0ab05-87d8-4937-8501-6a3058520148\">\n",
              "  <button class=\"colab-df-quickchart\" onclick=\"quickchart('df-26d0ab05-87d8-4937-8501-6a3058520148')\"\n",
              "            title=\"Suggest charts\"\n",
              "            style=\"display:none;\">\n",
              "\n",
              "<svg xmlns=\"http://www.w3.org/2000/svg\" height=\"24px\"viewBox=\"0 0 24 24\"\n",
              "     width=\"24px\">\n",
              "    <g>\n",
              "        <path d=\"M19 3H5c-1.1 0-2 .9-2 2v14c0 1.1.9 2 2 2h14c1.1 0 2-.9 2-2V5c0-1.1-.9-2-2-2zM9 17H7v-7h2v7zm4 0h-2V7h2v10zm4 0h-2v-4h2v4z\"/>\n",
              "    </g>\n",
              "</svg>\n",
              "  </button>\n",
              "\n",
              "<style>\n",
              "  .colab-df-quickchart {\n",
              "      --bg-color: #E8F0FE;\n",
              "      --fill-color: #1967D2;\n",
              "      --hover-bg-color: #E2EBFA;\n",
              "      --hover-fill-color: #174EA6;\n",
              "      --disabled-fill-color: #AAA;\n",
              "      --disabled-bg-color: #DDD;\n",
              "  }\n",
              "\n",
              "  [theme=dark] .colab-df-quickchart {\n",
              "      --bg-color: #3B4455;\n",
              "      --fill-color: #D2E3FC;\n",
              "      --hover-bg-color: #434B5C;\n",
              "      --hover-fill-color: #FFFFFF;\n",
              "      --disabled-bg-color: #3B4455;\n",
              "      --disabled-fill-color: #666;\n",
              "  }\n",
              "\n",
              "  .colab-df-quickchart {\n",
              "    background-color: var(--bg-color);\n",
              "    border: none;\n",
              "    border-radius: 50%;\n",
              "    cursor: pointer;\n",
              "    display: none;\n",
              "    fill: var(--fill-color);\n",
              "    height: 32px;\n",
              "    padding: 0;\n",
              "    width: 32px;\n",
              "  }\n",
              "\n",
              "  .colab-df-quickchart:hover {\n",
              "    background-color: var(--hover-bg-color);\n",
              "    box-shadow: 0 1px 2px rgba(60, 64, 67, 0.3), 0 1px 3px 1px rgba(60, 64, 67, 0.15);\n",
              "    fill: var(--button-hover-fill-color);\n",
              "  }\n",
              "\n",
              "  .colab-df-quickchart-complete:disabled,\n",
              "  .colab-df-quickchart-complete:disabled:hover {\n",
              "    background-color: var(--disabled-bg-color);\n",
              "    fill: var(--disabled-fill-color);\n",
              "    box-shadow: none;\n",
              "  }\n",
              "\n",
              "  .colab-df-spinner {\n",
              "    border: 2px solid var(--fill-color);\n",
              "    border-color: transparent;\n",
              "    border-bottom-color: var(--fill-color);\n",
              "    animation:\n",
              "      spin 1s steps(1) infinite;\n",
              "  }\n",
              "\n",
              "  @keyframes spin {\n",
              "    0% {\n",
              "      border-color: transparent;\n",
              "      border-bottom-color: var(--fill-color);\n",
              "      border-left-color: var(--fill-color);\n",
              "    }\n",
              "    20% {\n",
              "      border-color: transparent;\n",
              "      border-left-color: var(--fill-color);\n",
              "      border-top-color: var(--fill-color);\n",
              "    }\n",
              "    30% {\n",
              "      border-color: transparent;\n",
              "      border-left-color: var(--fill-color);\n",
              "      border-top-color: var(--fill-color);\n",
              "      border-right-color: var(--fill-color);\n",
              "    }\n",
              "    40% {\n",
              "      border-color: transparent;\n",
              "      border-right-color: var(--fill-color);\n",
              "      border-top-color: var(--fill-color);\n",
              "    }\n",
              "    60% {\n",
              "      border-color: transparent;\n",
              "      border-right-color: var(--fill-color);\n",
              "    }\n",
              "    80% {\n",
              "      border-color: transparent;\n",
              "      border-right-color: var(--fill-color);\n",
              "      border-bottom-color: var(--fill-color);\n",
              "    }\n",
              "    90% {\n",
              "      border-color: transparent;\n",
              "      border-bottom-color: var(--fill-color);\n",
              "    }\n",
              "  }\n",
              "</style>\n",
              "\n",
              "  <script>\n",
              "    async function quickchart(key) {\n",
              "      const quickchartButtonEl =\n",
              "        document.querySelector('#' + key + ' button');\n",
              "      quickchartButtonEl.disabled = true;  // To prevent multiple clicks.\n",
              "      quickchartButtonEl.classList.add('colab-df-spinner');\n",
              "      try {\n",
              "        const charts = await google.colab.kernel.invokeFunction(\n",
              "            'suggestCharts', [key], {});\n",
              "      } catch (error) {\n",
              "        console.error('Error during call to suggestCharts:', error);\n",
              "      }\n",
              "      quickchartButtonEl.classList.remove('colab-df-spinner');\n",
              "      quickchartButtonEl.classList.add('colab-df-quickchart-complete');\n",
              "    }\n",
              "    (() => {\n",
              "      let quickchartButtonEl =\n",
              "        document.querySelector('#df-26d0ab05-87d8-4937-8501-6a3058520148 button');\n",
              "      quickchartButtonEl.style.display =\n",
              "        google.colab.kernel.accessAllowed ? 'block' : 'none';\n",
              "    })();\n",
              "  </script>\n",
              "</div>\n",
              "\n",
              "    </div>\n",
              "  </div>\n"
            ],
            "application/vnd.google.colaboratory.intrinsic+json": {
              "type": "dataframe",
              "variable_name": "df_validacao"
            }
          },
          "metadata": {},
          "execution_count": 198
        }
      ]
    },
    {
      "cell_type": "markdown",
      "source": [
        "- Com os dados de validação preparados, agora farei as previsões novamente."
      ],
      "metadata": {
        "id": "4Svfw-eerleI"
      }
    },
    {
      "cell_type": "code",
      "source": [
        "# Dividindo os dados de validação em Treino e Teste\n",
        "\n",
        "x_test = df_validacao.drop(columns=\"Class\", axis=1)\n",
        "y_test = df_validacao[\"Class\"]"
      ],
      "metadata": {
        "id": "zzUIqtC9r56I"
      },
      "execution_count": 371,
      "outputs": []
    },
    {
      "cell_type": "code",
      "source": [
        "# Fazendo previsão com os dados de validação\n",
        "\n",
        "y_predict1 = reg_log.predict(x_test)\n",
        "y_probability1 = reg_log.predict_proba(x_test)[:, 1]"
      ],
      "metadata": {
        "id": "YtG3zEUisI4n"
      },
      "execution_count": 372,
      "outputs": []
    },
    {
      "cell_type": "markdown",
      "source": [
        "### Métricas de Avaliação"
      ],
      "metadata": {
        "id": "KDskUIL_sWdg"
      }
    },
    {
      "cell_type": "code",
      "source": [
        "# Relatório de Classificação Regressão Logística\n",
        "\n",
        "print(f\"Relatório de Classificação:\\n {classification_report(y_test, y_predict1, digits=3)}\")\n",
        "print(f\"Acurácia: {accuracy_score(y_test, y_predict1):.3f}\\n\")\n",
        "print(f\"AUC: {roc_auc_score(y_test, y_predict1):.3f}\")\n",
        "\n",
        "# Criando e plotando a matriz de confusão\n",
        "\n",
        "matrix = confusion_matrix(y_test, y_predict1, normalize=\"true\")\n",
        "sns.heatmap(matrix, annot=True)\n",
        "plt.xlabel(\"Predict\")\n",
        "plt.ylabel(\"Verdadeiro\")\n",
        "plt.show()"
      ],
      "metadata": {
        "colab": {
          "base_uri": "https://localhost:8080/",
          "height": 689
        },
        "id": "U0_Eosi8sbw4",
        "outputId": "f672967d-9393-4d51-f731-72bfde8ff527"
      },
      "execution_count": 373,
      "outputs": [
        {
          "output_type": "stream",
          "name": "stdout",
          "text": [
            "Relatório de Classificação:\n",
            "               precision    recall  f1-score   support\n",
            "\n",
            "           0      1.000     0.974     0.987     42647\n",
            "           1      0.057     0.919     0.108        74\n",
            "\n",
            "    accuracy                          0.974     42721\n",
            "   macro avg      0.529     0.946     0.547     42721\n",
            "weighted avg      0.998     0.974     0.985     42721\n",
            "\n",
            "Acurácia: 0.974\n",
            "\n",
            "AUC: 0.946\n"
          ]
        },
        {
          "output_type": "display_data",
          "data": {
            "text/plain": [
              "<Figure size 640x480 with 2 Axes>"
            ],
            "image/png": "[encoded data removed]"
          },
          "metadata": {}
        }
      ]
    },
    {
      "cell_type": "markdown",
      "source": [
        "- Comparando os resultados do modelo de Regressão Logística entre os dados **balanceados** de **teste** e os dados **desbalanceados** de **validação**, noto que:\n",
        "  - A acurácia apresentou uma melhora de 94% para 97%.\n",
        "\n",
        "  - A previsão de fraudes se manteve em 93%. Apesar de não haver uma diferença, na prática é significativo, pois indica um bom desempenho do modelo ao lidar com dados não vistos anteriormente."
      ],
      "metadata": {
        "id": "NP-TUq9zs7dR"
      }
    },
    {
      "cell_type": "markdown",
      "source": [
        "## **Árvore de Decisão**\n",
        "\n",
        "A árvore de decisão é um algoritmo de aprendizado de máquina que modela relações e decisões com base em uma estrutura de árvore. Ela divide os dados em subconjuntos específicos usando características ou atributos, até chegar a uma decisão ou previsão final. A árvore é composta por nós (testes em atributos) e ramos (resultados desses testes), com as folhas representando as classes ou valores previstos.\n",
        "\n",
        "Durante o treinamento, o algoritmo busca as melhores características e pontos de divisão para criar subconjuntos mais puros e distintos. Uma das principais vantagens da árvore de decisão é sua interpretabilidade, permitindo visualizar e entender as decisões em cada nó. Ela também pode lidar com dados categóricos e numéricos e é útil para selecionar as características mais importantes.\n",
        "\n",
        "As principais métricas para avaliar uma árvore de decisão são as mesmas usadas na regressão logística, aplicáveis a todos os algoritmos de classificação. A métrica mais importante depende do problema específico."
      ],
      "metadata": {
        "id": "mQK13R0v41aN"
      }
    },
    {
      "cell_type": "markdown",
      "source": [
        "### Previsão com os dados de teste"
      ],
      "metadata": {
        "id": "T5XKdzrQaj8q"
      }
    },
    {
      "cell_type": "code",
      "source": [
        "# Criando o modelo\n",
        "\n",
        "np.random.seed(2)\n",
        "arv_dec = DecisionTreeClassifier(max_depth=3)"
      ],
      "metadata": {
        "id": "R_DU05qHcK_j"
      },
      "execution_count": 202,
      "outputs": []
    },
    {
      "cell_type": "code",
      "source": [
        "# Treinando o modelo\n",
        "\n",
        "arv_dec.fit(x_bal, y_bal)"
      ],
      "metadata": {
        "colab": {
          "base_uri": "https://localhost:8080/",
          "height": 75
        },
        "id": "fn8IlHc3cXS6",
        "outputId": "fc0e009a-ab27-4a49-f7b5-9b1734cfeec1"
      },
      "execution_count": 203,
      "outputs": [
        {
          "output_type": "execute_result",
          "data": {
            "text/plain": [
              "DecisionTreeClassifier(max_depth=3)"
            ],
            "text/html": [
              "<style>#sk-container-id-6 {color: black;background-color: white;}#sk-container-id-6 pre{padding: 0;}#sk-container-id-6 div.sk-toggleable {background-color: white;}#sk-container-id-6 label.sk-toggleable__label {cursor: pointer;display: block;width: 100%;margin-bottom: 0;padding: 0.3em;box-sizing: border-box;text-align: center;}#sk-container-id-6 label.sk-toggleable__label-arrow:before {content: \"▸\";float: left;margin-right: 0.25em;color: #696969;}#sk-container-id-6 label.sk-toggleable__label-arrow:hover:before {color: black;}#sk-container-id-6 div.sk-estimator:hover label.sk-toggleable__label-arrow:before {color: black;}#sk-container-id-6 div.sk-toggleable__content {max-height: 0;max-width: 0;overflow: hidden;text-align: left;background-color: #f0f8ff;}#sk-container-id-6 div.sk-toggleable__content pre {margin: 0.2em;color: black;border-radius: 0.25em;background-color: #f0f8ff;}#sk-container-id-6 input.sk-toggleable__control:checked~div.sk-toggleable__content {max-height: 200px;max-width: 100%;overflow: auto;}#sk-container-id-6 input.sk-toggleable__control:checked~label.sk-toggleable__label-arrow:before {content: \"▾\";}#sk-container-id-6 div.sk-estimator input.sk-toggleable__control:checked~label.sk-toggleable__label {background-color: #d4ebff;}#sk-container-id-6 div.sk-label input.sk-toggleable__control:checked~label.sk-toggleable__label {background-color: #d4ebff;}#sk-container-id-6 input.sk-hidden--visually {border: 0;clip: rect(1px 1px 1px 1px);clip: rect(1px, 1px, 1px, 1px);height: 1px;margin: -1px;overflow: hidden;padding: 0;position: absolute;width: 1px;}#sk-container-id-6 div.sk-estimator {font-family: monospace;background-color: #f0f8ff;border: 1px dotted black;border-radius: 0.25em;box-sizing: border-box;margin-bottom: 0.5em;}#sk-container-id-6 div.sk-estimator:hover {background-color: #d4ebff;}#sk-container-id-6 div.sk-parallel-item::after {content: \"\";width: 100%;border-bottom: 1px solid gray;flex-grow: 1;}#sk-container-id-6 div.sk-label:hover label.sk-toggleable__label {background-color: #d4ebff;}#sk-container-id-6 div.sk-serial::before {content: \"\";position: absolute;border-left: 1px solid gray;box-sizing: border-box;top: 0;bottom: 0;left: 50%;z-index: 0;}#sk-container-id-6 div.sk-serial {display: flex;flex-direction: column;align-items: center;background-color: white;padding-right: 0.2em;padding-left: 0.2em;position: relative;}#sk-container-id-6 div.sk-item {position: relative;z-index: 1;}#sk-container-id-6 div.sk-parallel {display: flex;align-items: stretch;justify-content: center;background-color: white;position: relative;}#sk-container-id-6 div.sk-item::before, #sk-container-id-6 div.sk-parallel-item::before {content: \"\";position: absolute;border-left: 1px solid gray;box-sizing: border-box;top: 0;bottom: 0;left: 50%;z-index: -1;}#sk-container-id-6 div.sk-parallel-item {display: flex;flex-direction: column;z-index: 1;position: relative;background-color: white;}#sk-container-id-6 div.sk-parallel-item:first-child::after {align-self: flex-end;width: 50%;}#sk-container-id-6 div.sk-parallel-item:last-child::after {align-self: flex-start;width: 50%;}#sk-container-id-6 div.sk-parallel-item:only-child::after {width: 0;}#sk-container-id-6 div.sk-dashed-wrapped {border: 1px dashed gray;margin: 0 0.4em 0.5em 0.4em;box-sizing: border-box;padding-bottom: 0.4em;background-color: white;}#sk-container-id-6 div.sk-label label {font-family: monospace;font-weight: bold;display: inline-block;line-height: 1.2em;}#sk-container-id-6 div.sk-label-container {text-align: center;}#sk-container-id-6 div.sk-container {/* jupyter's `normalize.less` sets `[hidden] { display: none; }` but bootstrap.min.css set `[hidden] { display: none !important; }` so we also need the `!important` here to be able to override the default hidden behavior on the sphinx rendered scikit-learn.org. See: https://github.com/scikit-learn/scikit-learn/issues/21755 */display: inline-block !important;position: relative;}#sk-container-id-6 div.sk-text-repr-fallback {display: none;}</style><div id=\"sk-container-id-6\" class=\"sk-top-container\"><div class=\"sk-text-repr-fallback\"><pre>DecisionTreeClassifier(max_depth=3)</pre><b>In a Jupyter environment, please rerun this cell to show the HTML representation or trust the notebook. <br />On GitHub, the HTML representation is unable to render, please try loading this page with nbviewer.org.</b></div><div class=\"sk-container\" hidden><div class=\"sk-item\"><div class=\"sk-estimator sk-toggleable\"><input class=\"sk-toggleable__control sk-hidden--visually\" id=\"sk-estimator-id-6\" type=\"checkbox\" checked><label for=\"sk-estimator-id-6\" class=\"sk-toggleable__label sk-toggleable__label-arrow\">DecisionTreeClassifier</label><div class=\"sk-toggleable__content\"><pre>DecisionTreeClassifier(max_depth=3)</pre></div></div></div></div></div>"
            ]
          },
          "metadata": {},
          "execution_count": 203
        }
      ]
    },
    {
      "cell_type": "code",
      "source": [
        "# Fazendo as previsões com os dados de teste\n",
        "\n",
        "y_predict = arv_dec.predict(x_bal)\n",
        "y_probability = arv_dec.predict_proba(x_bal)"
      ],
      "metadata": {
        "id": "xLqyE-mxcbfl"
      },
      "execution_count": 204,
      "outputs": []
    },
    {
      "cell_type": "markdown",
      "source": [
        "### Métricas de Avaliação"
      ],
      "metadata": {
        "id": "_XUJKouoapdK"
      }
    },
    {
      "cell_type": "markdown",
      "source": [
        "- Acima, treinei e fiz previsões utilizando nosso modelo de Árvore de Decisão. Realizei alguns testes com diferentes hiperparâmetros para melhorar o desempenho do modelo, e o melhor resultado foi obtido ajustando o parâmetro max_depth. Esse parâmetro limita a profundidade máxima da árvore, referindo-se ao número de níveis ou camadas de nós, desde o nó raiz até os nós folha.\n",
        "\n",
        "- Após vários testes, este foi o melhor resultado obtido."
      ],
      "metadata": {
        "id": "Rh-7ARFAc80c"
      }
    },
    {
      "cell_type": "code",
      "source": [
        "# Criando o relatório\n",
        "\n",
        "print(f\"Relatório de Classificação:\\n {classification_report(y_bal, y_predict, digits=3)}\")\n",
        "print(f\"Acurácia: {accuracy_score(y_bal, y_predict):.3f}\\n\")\n",
        "print(f\"AUC: {roc_auc_score(y_bal, y_predict):.3f}\")\n",
        "\n",
        "# Criando a matriz de confusão\n",
        "\n",
        "matriz = confusion_matrix(y_bal, y_predict, normalize='true')\n",
        "sns.heatmap(matriz, annot=True)\n",
        "plt.xlabel(\"Predict\")\n",
        "plt.ylabel(\"Verdadeiro\")\n",
        "plt.show()"
      ],
      "metadata": {
        "colab": {
          "base_uri": "https://localhost:8080/",
          "height": 689
        },
        "id": "6nqhO4xZctP7",
        "outputId": "47ab33f3-744f-479b-ba93-a98f5a2ce3d3"
      },
      "execution_count": 205,
      "outputs": [
        {
          "output_type": "stream",
          "name": "stdout",
          "text": [
            "Relatório de Classificação:\n",
            "               precision    recall  f1-score   support\n",
            "\n",
            "           0      0.962     0.971     0.967       313\n",
            "           1      0.971     0.962     0.966       313\n",
            "\n",
            "    accuracy                          0.966       626\n",
            "   macro avg      0.966     0.966     0.966       626\n",
            "weighted avg      0.966     0.966     0.966       626\n",
            "\n",
            "Acurácia: 0.966\n",
            "\n",
            "AUC: 0.966\n"
          ]
        },
        {
          "output_type": "display_data",
          "data": {
            "text/plain": [
              "<Figure size 640x480 with 2 Axes>"
            ],
            "image/png": "[encoded data removed]"
          },
          "metadata": {}
        }
      ]
    },
    {
      "cell_type": "markdown",
      "source": [
        "### Previsão com os dados de Validação"
      ],
      "metadata": {
        "id": "jLeSJWLqa0IV"
      }
    },
    {
      "cell_type": "code",
      "source": [
        "# Fazer as previsões com os dados de validaçao\n",
        "\n",
        "y_predict2 = arv_dec.predict(x_test)\n",
        "y_probability2 = arv_dec.predict_proba(x_test)[:, 1]"
      ],
      "metadata": {
        "id": "g6K6m8iaewLs"
      },
      "execution_count": 206,
      "outputs": []
    },
    {
      "cell_type": "markdown",
      "source": [
        "### Métricas de Avaliação"
      ],
      "metadata": {
        "id": "vHMlDEfBa8c1"
      }
    },
    {
      "cell_type": "code",
      "source": [
        "#Relatório de Classificação Árvore de Decisão\n",
        "\n",
        "print(f\"Relatório de Classificação:\\n {classification_report(y_test, y_predict2, digits=3)}\")\n",
        "print(f\"Acurácia: {accuracy_score(y_test, y_predict2):.3f}\\n\")\n",
        "print(f\"AUC: {roc_auc_score(y_test, y_predict2):.3f}\")\n",
        "\n",
        "#Criando a matriz de confusão\n",
        "\n",
        "matrix = confusion_matrix(y_test, y_predict2, normalize=\"true\")\n",
        "sns.heatmap(matrix, annot=True)\n",
        "plt.xlabel(\"Predict\")\n",
        "plt.ylabel(\"Verdadeiro\")\n",
        "plt.show()"
      ],
      "metadata": {
        "colab": {
          "base_uri": "https://localhost:8080/",
          "height": 689
        },
        "id": "trlvM6Epfdls",
        "outputId": "ac332257-24aa-4c1c-905f-f20c2d5a77e1"
      },
      "execution_count": 207,
      "outputs": [
        {
          "output_type": "stream",
          "name": "stdout",
          "text": [
            "Relatório de Classificação:\n",
            "               precision    recall  f1-score   support\n",
            "\n",
            "           0      1.000     0.902     0.948     42647\n",
            "           1      0.016     0.919     0.031        74\n",
            "\n",
            "    accuracy                          0.902     42721\n",
            "   macro avg      0.508     0.910     0.490     42721\n",
            "weighted avg      0.998     0.902     0.947     42721\n",
            "\n",
            "Acurácia: 0.902\n",
            "\n",
            "AUC: 0.910\n"
          ]
        },
        {
          "output_type": "display_data",
          "data": {
            "text/plain": [
              "<Figure size 640x480 with 2 Axes>"
            ],
            "image/png": "[encoded data removed]"
          },
          "metadata": {}
        }
      ]
    },
    {
      "cell_type": "markdown",
      "source": [
        "- Comparando os resultados do modelo de Árvore de Decisão entre os dados **balanceados** de **teste** e os dados **desbalanceados** de **validação**, noto que:\n",
        "\n",
        "  - A Acurácia caiu de 96% para 90%.\n",
        "  - A previsão de fraude também caiu de 96% para 92%.\n",
        "\n",
        "- Grandes indicios que o modelo de Regressão Logistica pode ser o melhor, mas somente terei a certeza assim que fizer a avaliação de desempenho dos modelos aplicando a tecnica da curva ROC (ou área sobre a curva AUC)."
      ],
      "metadata": {
        "id": "mMGaiE8qR7Qi"
      }
    },
    {
      "cell_type": "markdown",
      "source": [
        "# **Comparando os modelos**\n",
        "\n",
        "## Curva ROC\n",
        "\n",
        "Para comparar os modelos e escolher o melhor, usarei a curva ROC (Receiver Operating Characteristic), uma ferramenta de avaliação de desempenho para modelos de classificação binária. A curva ROC representa graficamente a taxa de verdadeiros positivos em relação à taxa de falsos positivos, variando o ponto de corte da classificação. A área sob a curva (AUC-ROC) indica o poder discriminativo do modelo, com valores próximos de 1 indicando bom desempenho.\n",
        "\n",
        "A curva ROC ajuda na escolha do ponto de corte ideal para equilibrar a sensibilidade e a especificidade do modelo. É amplamente utilizada para selecionar e comparar modelos de classificação.\n",
        "\n",
        "Quanto mais próxima a curva estiver do canto superior esquerdo, melhor será o desempenho do modelo. O AUC, já calculado anteriormente, é a área sob essa curva, sendo que valores maiores indicam um modelo melhor. Com essas informações, irei comparar a Regressão Logística e a Árvore de Decisão aplicadas ao problema de Detecção de Fraude de Cartão de Crédito e averiguar qual se sairá melhor."
      ],
      "metadata": {
        "id": "HZiPscabUhdY"
      }
    },
    {
      "cell_type": "code",
      "source": [
        "# Calculando as taxas de verdadeiros positivos e falsos positivos para cada modelo\n",
        "\n",
        "fpr_modelo1, tpr_modelo1, _ = roc_curve(y_test, y_probability1)\n",
        "fpr_modelo2, tpr_modelo2, _ = roc_curve(y_test, y_probability2)\n",
        "\n",
        "# Imprimindo o AUC\n",
        "\n",
        "print(f\"AUC - Regressão Logística: {roc_auc_score(y_test, y_predict1):.2f}\")\n",
        "print(f\"AUC - Árvore de Decisão: {roc_auc_score(y_test, y_predict2):.2f}\")\n",
        "print(\"---------------------------------\")\n",
        "\n",
        "# Plotando a curva ROC para cada modelo\n",
        "\n",
        "plt.figure(figsize=(8, 6))\n",
        "plt.plot(fpr_modelo1, tpr_modelo1, label='Regressão Logística')\n",
        "plt.plot(fpr_modelo2, tpr_modelo2, label='Árvore de Decisão')\n",
        "plt.plot([0, 1], [0, 1], 'k--')\n",
        "\n",
        "# Incluindo uma legenda e rótulos nos eixos\n",
        "\n",
        "plt.legend(loc='lower right')\n",
        "plt.xlabel('Taxa de Falsos Positivos')\n",
        "plt.ylabel('Taxa de Verdadeiros Positivos')\n",
        "plt.show()"
      ],
      "metadata": {
        "colab": {
          "base_uri": "https://localhost:8080/",
          "height": 597
        },
        "id": "coJ8zyINR6-K",
        "outputId": "89bc97c2-c2e9-4902-d98d-f2649fff762c"
      },
      "execution_count": 375,
      "outputs": [
        {
          "output_type": "stream",
          "name": "stdout",
          "text": [
            "AUC - Regressão Logística: 0.95\n",
            "AUC - Árvore de Decisão: 0.91\n",
            "---------------------------------\n"
          ]
        },
        {
          "output_type": "display_data",
          "data": {
            "text/plain": [
              "<Figure size 800x600 with 1 Axes>"
            ],
            "image/png": "[encoded data removed]"
          },
          "metadata": {}
        }
      ]
    },
    {
      "cell_type": "markdown",
      "source": [
        "- O gráfico da Curva ROC indica que a Regressão Logística é melhor, aproximando-se mais de 1. No entanto, não podemos avaliar apenas uma métrica. O Recall, que mede a capacidade de identificar corretamente as transações fraudulentas, é crucial neste problema. O modelo de Regressão Logística apresenta um Recall de 97%, enquanto na Árvore de Decisão é de 90%. Assim, a Regressão Logística é o melhor modelo para detectar fraudes em transações de cartão de crédito, vencendo tanto na Curva ROC quanto no Recall."
      ],
      "metadata": {
        "id": "salLF-1BhdXk"
      }
    },
    {
      "cell_type": "markdown",
      "source": [
        "# **Comclusão**\n",
        "\n",
        "Ao final do nosso projeto, tirei algumas conclusões importantes sobre todo o processo:\n",
        "\n",
        "- Primeiramente, foi crucial entender qual era o problema que estávamos resolvendo e as medidas tomadas para proteger os dados dos clientes.\n",
        "\n",
        "- Em relação aos dados, reservei 15% para testar o modelo no final e ver seu desempenho com dados inéditos.\n",
        "\n",
        "- Fiz uma análise detalhada dos dados, incluindo estatísticas descritivas e gráficos para entender melhor sua distribuição.\n",
        "\n",
        "- Preparamos os dados para os modelos de Machine Learning, aplicando transformações necessárias e rebalanceando as classes.\n",
        "\n",
        "- Construí e avaliei modelos de Regressão Logística e Árvore de Decisão, utilizando métricas como relatórios de classificação, matrizes de confusão e a curva ROC.\n",
        "\n",
        "- Após todas as análises, concluí que o modelo de Regressão Logística se destacou como a melhor opção para o nosso projeto."
      ],
      "metadata": {
        "id": "XbAWOBZFZVVe"
      }
    }
  ]
}